{
 "cells": [
  {
   "cell_type": "markdown",
   "metadata": {},
   "source": [
    "### 0. Loading libraries"
   ]
  },
  {
   "cell_type": "code",
   "execution_count": 39,
   "metadata": {},
   "outputs": [],
   "source": [
    "from keras.datasets import mnist\n",
    "from keras.utils.np_utils import to_categorical\n",
    "from keras import models\n",
    "from keras import layers\n",
    "from keras import losses\n",
    "from keras import metrics\n",
    "from keras import optimizers\n",
    "from sklearn.model_selection import train_test_split\n",
    "from sklearn.metrics import confusion_matrix, classification_report\n",
    "import numpy as np\n",
    "import matplotlib.pyplot as plt\n",
    "import matplotlib.cm as cm"
   ]
  },
  {
   "cell_type": "markdown",
   "metadata": {},
   "source": [
    "### 0.1 Loading the data"
   ]
  },
  {
   "cell_type": "code",
   "execution_count": 40,
   "metadata": {},
   "outputs": [],
   "source": [
    "(x_train_data, y_train_labels), (x_test_data, y_test_labels) = mnist.load_data()"
   ]
  },
  {
   "cell_type": "markdown",
   "metadata": {},
   "source": [
    "#### Check what inside of the dataset"
   ]
  },
  {
   "cell_type": "markdown",
   "metadata": {},
   "source": [
    "Printing out shapes for entire train set, first element in the set, label for that picture. Also, I'm printing matrix itself for the first element to see what data we have, and I clearly see the 5 in the matrix; it doesn't look nice enough because of the length of array is too much for one line to be shown on one line, so it spreads between two lines, but 5 is still recognizable pretty easily. I used array slicing to extract only middle part of the matrix to be able to fit 5 on the screen. I'm not really sure about why it worked the way I did, because I was trying to cut rows and then colums like so [4:26][10:24], but it didn't work and just cut additonal lines when I'm assuming second square bracket statment has to be colums, but by googling I found to access colums I have to use comma, but I don't undestand the way it exactly works. Also, printing grayscale picture of the number."
   ]
  },
  {
   "cell_type": "code",
   "execution_count": 41,
   "metadata": {},
   "outputs": [
    {
     "name": "stdout",
     "output_type": "stream",
     "text": [
      "(60000, 28, 28)\n",
      "(28, 28)\n",
      "5\n",
      "[[  0   0   0   0   0   0   0   0   0   0   0   0   0   0   0   0   0   0\n",
      "    0   0   0   0   0   0   0   0   0   0]\n",
      " [  0   0   0   0   0   0   0   0   0   0   0   0   0   0   0   0   0   0\n",
      "    0   0   0   0   0   0   0   0   0   0]\n",
      " [  0   0   0   0   0   0   0   0   0   0   0   0   0   0   0   0   0   0\n",
      "    0   0   0   0   0   0   0   0   0   0]\n",
      " [  0   0   0   0   0   0   0   0   0   0   0   0   0   0   0   0   0   0\n",
      "    0   0   0   0   0   0   0   0   0   0]\n",
      " [  0   0   0   0   0   0   0   0   0   0   0   0   0   0   0   0   0   0\n",
      "    0   0   0   0   0   0   0   0   0   0]\n",
      " [  0   0   0   0   0   0   0   0   0   0   0   0   3  18  18  18 126 136\n",
      "  175  26 166 255 247 127   0   0   0   0]\n",
      " [  0   0   0   0   0   0   0   0  30  36  94 154 170 253 253 253 253 253\n",
      "  225 172 253 242 195  64   0   0   0   0]\n",
      " [  0   0   0   0   0   0   0  49 238 253 253 253 253 253 253 253 253 251\n",
      "   93  82  82  56  39   0   0   0   0   0]\n",
      " [  0   0   0   0   0   0   0  18 219 253 253 253 253 253 198 182 247 241\n",
      "    0   0   0   0   0   0   0   0   0   0]\n",
      " [  0   0   0   0   0   0   0   0  80 156 107 253 253 205  11   0  43 154\n",
      "    0   0   0   0   0   0   0   0   0   0]\n",
      " [  0   0   0   0   0   0   0   0   0  14   1 154 253  90   0   0   0   0\n",
      "    0   0   0   0   0   0   0   0   0   0]\n",
      " [  0   0   0   0   0   0   0   0   0   0   0 139 253 190   2   0   0   0\n",
      "    0   0   0   0   0   0   0   0   0   0]\n",
      " [  0   0   0   0   0   0   0   0   0   0   0  11 190 253  70   0   0   0\n",
      "    0   0   0   0   0   0   0   0   0   0]\n",
      " [  0   0   0   0   0   0   0   0   0   0   0   0  35 241 225 160 108   1\n",
      "    0   0   0   0   0   0   0   0   0   0]\n",
      " [  0   0   0   0   0   0   0   0   0   0   0   0   0  81 240 253 253 119\n",
      "   25   0   0   0   0   0   0   0   0   0]\n",
      " [  0   0   0   0   0   0   0   0   0   0   0   0   0   0  45 186 253 253\n",
      "  150  27   0   0   0   0   0   0   0   0]\n",
      " [  0   0   0   0   0   0   0   0   0   0   0   0   0   0   0  16  93 252\n",
      "  253 187   0   0   0   0   0   0   0   0]\n",
      " [  0   0   0   0   0   0   0   0   0   0   0   0   0   0   0   0   0 249\n",
      "  253 249  64   0   0   0   0   0   0   0]\n",
      " [  0   0   0   0   0   0   0   0   0   0   0   0   0   0  46 130 183 253\n",
      "  253 207   2   0   0   0   0   0   0   0]\n",
      " [  0   0   0   0   0   0   0   0   0   0   0   0  39 148 229 253 253 253\n",
      "  250 182   0   0   0   0   0   0   0   0]\n",
      " [  0   0   0   0   0   0   0   0   0   0  24 114 221 253 253 253 253 201\n",
      "   78   0   0   0   0   0   0   0   0   0]\n",
      " [  0   0   0   0   0   0   0   0  23  66 213 253 253 253 253 198  81   2\n",
      "    0   0   0   0   0   0   0   0   0   0]\n",
      " [  0   0   0   0   0   0  18 171 219 253 253 253 253 195  80   9   0   0\n",
      "    0   0   0   0   0   0   0   0   0   0]\n",
      " [  0   0   0   0  55 172 226 253 253 253 253 244 133  11   0   0   0   0\n",
      "    0   0   0   0   0   0   0   0   0   0]\n",
      " [  0   0   0   0 136 253 253 253 212 135 132  16   0   0   0   0   0   0\n",
      "    0   0   0   0   0   0   0   0   0   0]\n",
      " [  0   0   0   0   0   0   0   0   0   0   0   0   0   0   0   0   0   0\n",
      "    0   0   0   0   0   0   0   0   0   0]\n",
      " [  0   0   0   0   0   0   0   0   0   0   0   0   0   0   0   0   0   0\n",
      "    0   0   0   0   0   0   0   0   0   0]\n",
      " [  0   0   0   0   0   0   0   0   0   0   0   0   0   0   0   0   0   0\n",
      "    0   0   0   0   0   0   0   0   0   0]]\n",
      "[[  0   0   0   0   0   0   0   0   0   0   0   0   0   0]\n",
      " [  0   0   3  18  18  18 126 136 175  26 166 255 247 127]\n",
      " [ 94 154 170 253 253 253 253 253 225 172 253 242 195  64]\n",
      " [253 253 253 253 253 253 253 251  93  82  82  56  39   0]\n",
      " [253 253 253 253 198 182 247 241   0   0   0   0   0   0]\n",
      " [107 253 253 205  11   0  43 154   0   0   0   0   0   0]\n",
      " [  1 154 253  90   0   0   0   0   0   0   0   0   0   0]\n",
      " [  0 139 253 190   2   0   0   0   0   0   0   0   0   0]\n",
      " [  0  11 190 253  70   0   0   0   0   0   0   0   0   0]\n",
      " [  0   0  35 241 225 160 108   1   0   0   0   0   0   0]\n",
      " [  0   0   0  81 240 253 253 119  25   0   0   0   0   0]\n",
      " [  0   0   0   0  45 186 253 253 150  27   0   0   0   0]\n",
      " [  0   0   0   0   0  16  93 252 253 187   0   0   0   0]\n",
      " [  0   0   0   0   0   0   0 249 253 249  64   0   0   0]\n",
      " [  0   0   0   0  46 130 183 253 253 207   2   0   0   0]\n",
      " [  0   0  39 148 229 253 253 253 250 182   0   0   0   0]\n",
      " [ 24 114 221 253 253 253 253 201  78   0   0   0   0   0]\n",
      " [213 253 253 253 253 198  81   2   0   0   0   0   0   0]\n",
      " [253 253 253 195  80   9   0   0   0   0   0   0   0   0]\n",
      " [253 244 133  11   0   0   0   0   0   0   0   0   0   0]\n",
      " [132  16   0   0   0   0   0   0   0   0   0   0   0   0]\n",
      " [  0   0   0   0   0   0   0   0   0   0   0   0   0   0]]\n"
     ]
    },
    {
     "data": {
      "text/plain": [
       "<matplotlib.image.AxesImage at 0x7f19d04de208>"
      ]
     },
     "execution_count": 41,
     "metadata": {},
     "output_type": "execute_result"
    },
    {
     "data": {
      "image/png": "[encoded data removed]",
      "text/plain": [
       "<Figure size 432x288 with 1 Axes>"
      ]
     },
     "metadata": {
      "needs_background": "light"
     },
     "output_type": "display_data"
    }
   ],
   "source": [
    "print(x_train_data.shape)\n",
    "print(x_train_data[0].shape)\n",
    "print(y_train_labels[0])\n",
    "print(x_train_data[0])\n",
    "print(x_train_data[0][4:26:,10:24])\n",
    "plt.imshow(x_train_data[0], cmap = cm.gray)"
   ]
  },
  {
   "cell_type": "markdown",
   "metadata": {},
   "source": [
    "### 1. Preparing the mnist data"
   ]
  },
  {
   "cell_type": "markdown",
   "metadata": {},
   "source": [
    "#### Reshape"
   ]
  },
  {
   "cell_type": "markdown",
   "metadata": {},
   "source": [
    "Reshaping 28x28 px pictures matrices to one dimentional array, because our model needs to get all data at once, so we reshaping it to make 784x1 to be able to feed it to our model to be able to train. \n",
    "\n",
    "Using hot vectorization on labels for data that will give us 1 at correct number place. Model will have to need output, since we categorize number from (0-9) our output will be a vetrol length 10 in order to match our labels we use hot vectorization."
   ]
  },
  {
   "cell_type": "code",
   "execution_count": 42,
   "metadata": {},
   "outputs": [],
   "source": [
    "x_train_data = x_train_data.reshape(60000, 28*28)\n",
    "\n",
    "y_train_labels = to_categorical(y_train_labels)"
   ]
  },
  {
   "cell_type": "markdown",
   "metadata": {},
   "source": [
    "Check that our reshaping step worked"
   ]
  },
  {
   "cell_type": "code",
   "execution_count": 43,
   "metadata": {},
   "outputs": [
    {
     "name": "stdout",
     "output_type": "stream",
     "text": [
      "(60000, 784)\n",
      "(60000, 10)\n"
     ]
    }
   ],
   "source": [
    "print(x_train_data.shape)\n",
    "print(y_train_labels.shape)"
   ]
  },
  {
   "cell_type": "markdown",
   "metadata": {},
   "source": [
    "#### Split the data for cross validation"
   ]
  },
  {
   "cell_type": "markdown",
   "metadata": {},
   "source": [
    "Using sklearn library to evenly split the data between training and validation batches; it selects data points in the way they are will be evenly spreaded to be similar without a possibility to loose shavel entire category to one of the subsets."
   ]
  },
  {
   "cell_type": "code",
   "execution_count": 44,
   "metadata": {},
   "outputs": [],
   "source": [
    "x_train_part, x_train_val, y_train_part, y_train_val = train_test_split(x_train_data, y_train_labels, \n",
    "                                                                        test_size=0.2, \n",
    "                                                                        random_state=42, \n",
    "                                                                        stratify=\n",
    "                                                                        np.argmax(y_train_labels, axis=1))\n",
    "epoch = 100"
   ]
  },
  {
   "cell_type": "markdown",
   "metadata": {},
   "source": [
    "---\n",
    "### 2. One hidden layer neural networks"
   ]
  },
  {
   "cell_type": "markdown",
   "metadata": {},
   "source": [
    "### 2.1 One hidden layer with 100 nodes"
   ]
  },
  {
   "cell_type": "markdown",
   "metadata": {},
   "source": [
    "#### Assembling the model\n",
    "Creating sequential model with 1 hidden layer of 100 nodes and final output layer of 10 nodes that will be matching our hot-vectors of the lables.\n",
    "\n",
    "We use input shape only once at the first layer because it needs to know what it gets when other layers will be able to figure it out based on a previous layer. \n",
    "\n",
    "Activation relu is a simple linear function that zeros-out all negative weights to have all positive weight to have intentional affect on a model. Relu is usually used on hidden layers.\n",
    "\n",
    "Activation softmax gives likehood probabilities of each output category. The maximum probability among categories is what a model choose. "
   ]
  },
  {
   "cell_type": "code",
   "execution_count": 45,
   "metadata": {},
   "outputs": [],
   "source": [
    "model_1 = models.Sequential()\n",
    "\n",
    "model_1.add(layers.Dense(100, activation='relu', input_shape=(28*28,)))\n",
    "model_1.add(layers.Dense(10, activation='softmax'))"
   ]
  },
  {
   "cell_type": "markdown",
   "metadata": {},
   "source": [
    "#### Compiling the model\n",
    "Rmsprop optimizer similar to rprop taking two gradients of the last two weights but increasing them in magnitude to converge faster. \n",
    "\n",
    "We use categorical crossentropy because we have multiple categories to choose from."
   ]
  },
  {
   "cell_type": "code",
   "execution_count": 46,
   "metadata": {},
   "outputs": [],
   "source": [
    "model_1.compile(optimizer='rmsprop', loss='categorical_crossentropy', metrics=['acc'])"
   ]
  },
  {
   "cell_type": "markdown",
   "metadata": {},
   "source": [
    "#### Train the model\n",
    "I used different batches and epochs. I decided to use 100 epochs for all models, but depending on model hidden layers, I was tweaking batch size to get the best result. I run into a problem of having my model to completely miss several numbers; At times, it doesn't recognize some numbers completely, but seems it happens by random and no colleration with a batch size or epochs. I found 1024 batch size for 100 hidden nodes works better than smaller size for some reasons even though articles say opposite. \n",
    "\n",
    "Model returns a history object that I save."
   ]
  },
  {
   "cell_type": "code",
   "execution_count": 47,
   "metadata": {
    "scrolled": true
   },
   "outputs": [
    {
     "name": "stdout",
     "output_type": "stream",
     "text": [
      "Train on 48000 samples, validate on 12000 samples\n",
      "Epoch 1/100\n",
      "48000/48000 [==============================] - 1s 13us/step - loss: 9.3304 - acc: 0.4167 - val_loss: 8.5778 - val_acc: 0.4656\n",
      "Epoch 2/100\n",
      "48000/48000 [==============================] - 0s 10us/step - loss: 7.4392 - acc: 0.5344 - val_loss: 5.6846 - val_acc: 0.6425\n",
      "Epoch 3/100\n",
      "48000/48000 [==============================] - 0s 10us/step - loss: 5.5653 - acc: 0.6506 - val_loss: 5.4436 - val_acc: 0.6587\n",
      "Epoch 4/100\n",
      "48000/48000 [==============================] - 0s 10us/step - loss: 4.3796 - acc: 0.7215 - val_loss: 3.0279 - val_acc: 0.8041\n",
      "Epoch 5/100\n",
      "48000/48000 [==============================] - 0s 9us/step - loss: 2.8823 - acc: 0.8149 - val_loss: 2.7381 - val_acc: 0.8241\n",
      "Epoch 6/100\n",
      "48000/48000 [==============================] - 1s 11us/step - loss: 2.6570 - acc: 0.8294 - val_loss: 2.9346 - val_acc: 0.8113\n",
      "Epoch 7/100\n",
      "48000/48000 [==============================] - 0s 9us/step - loss: 2.5391 - acc: 0.8375 - val_loss: 2.5792 - val_acc: 0.8353\n",
      "Epoch 8/100\n",
      "48000/48000 [==============================] - 0s 9us/step - loss: 2.4849 - acc: 0.8411 - val_loss: 2.6676 - val_acc: 0.8293\n",
      "Epoch 9/100\n",
      "48000/48000 [==============================] - 0s 9us/step - loss: 2.4338 - acc: 0.8448 - val_loss: 2.5441 - val_acc: 0.8367\n",
      "Epoch 10/100\n",
      "48000/48000 [==============================] - 0s 10us/step - loss: 2.3819 - acc: 0.8484 - val_loss: 2.4988 - val_acc: 0.8403\n",
      "Epoch 11/100\n",
      "48000/48000 [==============================] - 0s 9us/step - loss: 2.3674 - acc: 0.8492 - val_loss: 2.3753 - val_acc: 0.8484\n",
      "Epoch 12/100\n",
      "48000/48000 [==============================] - 0s 9us/step - loss: 2.2821 - acc: 0.8547 - val_loss: 2.4299 - val_acc: 0.8448\n",
      "Epoch 13/100\n",
      "48000/48000 [==============================] - 0s 9us/step - loss: 2.2711 - acc: 0.8558 - val_loss: 2.3004 - val_acc: 0.8531\n",
      "Epoch 14/100\n",
      "48000/48000 [==============================] - 0s 9us/step - loss: 2.2354 - acc: 0.8579 - val_loss: 2.2755 - val_acc: 0.8549\n",
      "Epoch 15/100\n",
      "48000/48000 [==============================] - 0s 10us/step - loss: 2.2152 - acc: 0.8594 - val_loss: 2.2938 - val_acc: 0.8543\n",
      "Epoch 16/100\n",
      "48000/48000 [==============================] - 0s 10us/step - loss: 2.1884 - acc: 0.8614 - val_loss: 2.2647 - val_acc: 0.8565\n",
      "Epoch 17/100\n",
      "48000/48000 [==============================] - 0s 9us/step - loss: 2.1741 - acc: 0.8624 - val_loss: 2.2917 - val_acc: 0.8547\n",
      "Epoch 18/100\n",
      "48000/48000 [==============================] - 0s 9us/step - loss: 2.0532 - acc: 0.8697 - val_loss: 1.2350 - val_acc: 0.9162\n",
      "Epoch 19/100\n",
      "48000/48000 [==============================] - 0s 9us/step - loss: 0.8159 - acc: 0.9443 - val_loss: 0.7861 - val_acc: 0.9471\n",
      "Epoch 20/100\n",
      "48000/48000 [==============================] - 0s 9us/step - loss: 0.6356 - acc: 0.9565 - val_loss: 0.6930 - val_acc: 0.9528\n",
      "Epoch 21/100\n",
      "48000/48000 [==============================] - 0s 9us/step - loss: 0.5995 - acc: 0.9587 - val_loss: 0.6843 - val_acc: 0.9528\n",
      "Epoch 22/100\n",
      "48000/48000 [==============================] - 0s 9us/step - loss: 0.5504 - acc: 0.9626 - val_loss: 0.6330 - val_acc: 0.9577\n",
      "Epoch 23/100\n",
      "48000/48000 [==============================] - 0s 9us/step - loss: 0.5692 - acc: 0.9614 - val_loss: 0.6106 - val_acc: 0.9586\n",
      "Epoch 24/100\n",
      "48000/48000 [==============================] - 0s 9us/step - loss: 0.5199 - acc: 0.9645 - val_loss: 0.6041 - val_acc: 0.9590\n",
      "Epoch 25/100\n",
      "48000/48000 [==============================] - 0s 9us/step - loss: 0.5105 - acc: 0.9657 - val_loss: 0.6419 - val_acc: 0.9556\n",
      "Epoch 26/100\n",
      "48000/48000 [==============================] - 0s 9us/step - loss: 0.5005 - acc: 0.9659 - val_loss: 0.6171 - val_acc: 0.9581\n",
      "Epoch 27/100\n",
      "48000/48000 [==============================] - 0s 9us/step - loss: 0.4888 - acc: 0.9668 - val_loss: 0.5877 - val_acc: 0.9605\n",
      "Epoch 28/100\n",
      "48000/48000 [==============================] - 0s 9us/step - loss: 0.4527 - acc: 0.9694 - val_loss: 0.6355 - val_acc: 0.9574\n",
      "Epoch 29/100\n",
      "48000/48000 [==============================] - 0s 10us/step - loss: 0.4308 - acc: 0.9705 - val_loss: 0.6253 - val_acc: 0.9572\n",
      "Epoch 30/100\n",
      "48000/48000 [==============================] - 0s 10us/step - loss: 0.4337 - acc: 0.9707 - val_loss: 0.5975 - val_acc: 0.9605\n",
      "Epoch 31/100\n",
      "48000/48000 [==============================] - 0s 10us/step - loss: 0.4283 - acc: 0.9710 - val_loss: 0.5871 - val_acc: 0.9607\n",
      "Epoch 32/100\n",
      "48000/48000 [==============================] - 0s 10us/step - loss: 0.4237 - acc: 0.9710 - val_loss: 0.5462 - val_acc: 0.9636\n",
      "Epoch 33/100\n",
      "48000/48000 [==============================] - 0s 10us/step - loss: 0.3976 - acc: 0.9726 - val_loss: 0.5521 - val_acc: 0.9632\n",
      "Epoch 34/100\n",
      "48000/48000 [==============================] - 0s 10us/step - loss: 0.3862 - acc: 0.9740 - val_loss: 0.5687 - val_acc: 0.9616\n",
      "Epoch 35/100\n",
      "48000/48000 [==============================] - 1s 10us/step - loss: 0.3677 - acc: 0.9750 - val_loss: 0.5733 - val_acc: 0.9618\n",
      "Epoch 36/100\n",
      "48000/48000 [==============================] - 0s 10us/step - loss: 0.3564 - acc: 0.9757 - val_loss: 0.5149 - val_acc: 0.9658\n",
      "Epoch 37/100\n",
      "48000/48000 [==============================] - 0s 10us/step - loss: 0.3534 - acc: 0.9758 - val_loss: 0.5921 - val_acc: 0.9598\n",
      "Epoch 38/100\n",
      "48000/48000 [==============================] - 1s 11us/step - loss: 0.3502 - acc: 0.9761 - val_loss: 0.5748 - val_acc: 0.9609\n",
      "Epoch 39/100\n",
      "48000/48000 [==============================] - 1s 11us/step - loss: 0.3431 - acc: 0.9762 - val_loss: 0.5507 - val_acc: 0.9620\n",
      "Epoch 40/100\n",
      "48000/48000 [==============================] - 0s 10us/step - loss: 0.3407 - acc: 0.9769 - val_loss: 0.5195 - val_acc: 0.9645\n",
      "Epoch 41/100\n",
      "48000/48000 [==============================] - 0s 10us/step - loss: 0.3341 - acc: 0.9772 - val_loss: 0.5538 - val_acc: 0.9626\n",
      "Epoch 42/100\n",
      "48000/48000 [==============================] - 0s 10us/step - loss: 0.3239 - acc: 0.9779 - val_loss: 0.5548 - val_acc: 0.9626\n",
      "Epoch 43/100\n",
      "48000/48000 [==============================] - 0s 10us/step - loss: 0.3211 - acc: 0.9781 - val_loss: 0.5126 - val_acc: 0.9649\n",
      "Epoch 44/100\n",
      "48000/48000 [==============================] - 0s 10us/step - loss: 0.2958 - acc: 0.9798 - val_loss: 0.5458 - val_acc: 0.9632\n",
      "Epoch 45/100\n",
      "48000/48000 [==============================] - 1s 11us/step - loss: 0.3196 - acc: 0.9781 - val_loss: 0.5026 - val_acc: 0.9662\n",
      "Epoch 46/100\n",
      "48000/48000 [==============================] - 1s 11us/step - loss: 0.2980 - acc: 0.9799 - val_loss: 0.5061 - val_acc: 0.9661\n",
      "Epoch 47/100\n",
      "48000/48000 [==============================] - 1s 11us/step - loss: 0.2927 - acc: 0.9800 - val_loss: 0.5143 - val_acc: 0.9650\n",
      "Epoch 48/100\n",
      "48000/48000 [==============================] - 1s 11us/step - loss: 0.3046 - acc: 0.9795 - val_loss: 0.4613 - val_acc: 0.9690\n",
      "Epoch 49/100\n",
      "48000/48000 [==============================] - 1s 10us/step - loss: 0.2840 - acc: 0.9809 - val_loss: 0.5012 - val_acc: 0.9665\n",
      "Epoch 50/100\n",
      "48000/48000 [==============================] - 0s 10us/step - loss: 0.2847 - acc: 0.9808 - val_loss: 0.5347 - val_acc: 0.9642\n",
      "Epoch 51/100\n",
      "48000/48000 [==============================] - 0s 10us/step - loss: 0.2811 - acc: 0.9809 - val_loss: 0.5073 - val_acc: 0.9659\n",
      "Epoch 52/100\n",
      "48000/48000 [==============================] - 0s 10us/step - loss: 0.2813 - acc: 0.9810 - val_loss: 0.4797 - val_acc: 0.9678\n",
      "Epoch 53/100\n",
      "48000/48000 [==============================] - 1s 11us/step - loss: 0.2745 - acc: 0.9815 - val_loss: 0.4919 - val_acc: 0.9656\n",
      "Epoch 54/100\n",
      "48000/48000 [==============================] - 0s 10us/step - loss: 0.2694 - acc: 0.9815 - val_loss: 0.4638 - val_acc: 0.9684\n",
      "Epoch 55/100\n",
      "48000/48000 [==============================] - 0s 10us/step - loss: 0.2579 - acc: 0.9824 - val_loss: 0.5032 - val_acc: 0.9661\n",
      "Epoch 56/100\n",
      "48000/48000 [==============================] - 1s 11us/step - loss: 0.2500 - acc: 0.9827 - val_loss: 0.4458 - val_acc: 0.9704\n",
      "Epoch 57/100\n",
      "48000/48000 [==============================] - 0s 10us/step - loss: 0.2510 - acc: 0.9831 - val_loss: 0.4811 - val_acc: 0.9680\n",
      "Epoch 58/100\n",
      "48000/48000 [==============================] - 0s 10us/step - loss: 0.2523 - acc: 0.9827 - val_loss: 0.4640 - val_acc: 0.9688\n",
      "Epoch 59/100\n",
      "48000/48000 [==============================] - 0s 10us/step - loss: 0.2486 - acc: 0.9831 - val_loss: 0.5385 - val_acc: 0.9642\n"
     ]
    },
    {
     "name": "stdout",
     "output_type": "stream",
     "text": [
      "Epoch 60/100\n",
      "48000/48000 [==============================] - 1s 10us/step - loss: 0.2579 - acc: 0.9830 - val_loss: 0.5025 - val_acc: 0.9669\n",
      "Epoch 61/100\n",
      "48000/48000 [==============================] - 0s 10us/step - loss: 0.2503 - acc: 0.9832 - val_loss: 0.5143 - val_acc: 0.9657\n",
      "Epoch 62/100\n",
      "48000/48000 [==============================] - 0s 10us/step - loss: 0.2446 - acc: 0.9835 - val_loss: 0.4465 - val_acc: 0.9705\n",
      "Epoch 63/100\n",
      "48000/48000 [==============================] - 1s 11us/step - loss: 0.2409 - acc: 0.9837 - val_loss: 0.4777 - val_acc: 0.9687\n",
      "Epoch 64/100\n",
      "48000/48000 [==============================] - 0s 10us/step - loss: 0.2266 - acc: 0.9848 - val_loss: 0.4726 - val_acc: 0.9682\n",
      "Epoch 65/100\n",
      "48000/48000 [==============================] - 0s 10us/step - loss: 0.2271 - acc: 0.9845 - val_loss: 0.4659 - val_acc: 0.9686\n",
      "Epoch 66/100\n",
      "48000/48000 [==============================] - 0s 10us/step - loss: 0.2311 - acc: 0.9842 - val_loss: 0.4872 - val_acc: 0.9675\n",
      "Epoch 67/100\n",
      "48000/48000 [==============================] - 0s 10us/step - loss: 0.2294 - acc: 0.9847 - val_loss: 0.4591 - val_acc: 0.9691\n",
      "Epoch 68/100\n",
      "48000/48000 [==============================] - 0s 10us/step - loss: 0.2190 - acc: 0.9850 - val_loss: 0.4419 - val_acc: 0.9698\n",
      "Epoch 69/100\n",
      "48000/48000 [==============================] - 0s 10us/step - loss: 0.2148 - acc: 0.9854 - val_loss: 0.5327 - val_acc: 0.9648\n",
      "Epoch 70/100\n",
      "48000/48000 [==============================] - 0s 10us/step - loss: 0.2142 - acc: 0.9857 - val_loss: 0.4476 - val_acc: 0.9700\n",
      "Epoch 71/100\n",
      "48000/48000 [==============================] - 0s 10us/step - loss: 0.2072 - acc: 0.9861 - val_loss: 0.4533 - val_acc: 0.9694\n",
      "Epoch 72/100\n",
      "48000/48000 [==============================] - 0s 10us/step - loss: 0.2054 - acc: 0.9862 - val_loss: 0.4532 - val_acc: 0.9701\n",
      "Epoch 73/100\n",
      "48000/48000 [==============================] - 0s 10us/step - loss: 0.2093 - acc: 0.9858 - val_loss: 0.4379 - val_acc: 0.9714\n",
      "Epoch 74/100\n",
      "48000/48000 [==============================] - 0s 10us/step - loss: 0.1982 - acc: 0.9868 - val_loss: 0.4858 - val_acc: 0.9677\n",
      "Epoch 75/100\n",
      "48000/48000 [==============================] - 0s 10us/step - loss: 0.1964 - acc: 0.9865 - val_loss: 0.4457 - val_acc: 0.9707\n",
      "Epoch 76/100\n",
      "48000/48000 [==============================] - 0s 10us/step - loss: 0.2007 - acc: 0.9863 - val_loss: 0.4498 - val_acc: 0.9693\n",
      "Epoch 77/100\n",
      "48000/48000 [==============================] - 0s 10us/step - loss: 0.2089 - acc: 0.9861 - val_loss: 0.4795 - val_acc: 0.9683\n",
      "Epoch 78/100\n",
      "48000/48000 [==============================] - 0s 10us/step - loss: 0.2124 - acc: 0.9857 - val_loss: 0.4168 - val_acc: 0.9724\n",
      "Epoch 79/100\n",
      "48000/48000 [==============================] - 0s 10us/step - loss: 0.1892 - acc: 0.9873 - val_loss: 0.4346 - val_acc: 0.9711\n",
      "Epoch 80/100\n",
      "48000/48000 [==============================] - 0s 10us/step - loss: 0.1985 - acc: 0.9866 - val_loss: 0.5184 - val_acc: 0.9658\n",
      "Epoch 81/100\n",
      "48000/48000 [==============================] - 0s 10us/step - loss: 0.1948 - acc: 0.9866 - val_loss: 0.4339 - val_acc: 0.9713\n",
      "Epoch 82/100\n",
      "48000/48000 [==============================] - 0s 10us/step - loss: 0.1850 - acc: 0.9876 - val_loss: 0.4553 - val_acc: 0.9700\n",
      "Epoch 83/100\n",
      "48000/48000 [==============================] - 0s 10us/step - loss: 0.1828 - acc: 0.9878 - val_loss: 0.4202 - val_acc: 0.9722\n",
      "Epoch 84/100\n",
      "48000/48000 [==============================] - 1s 11us/step - loss: 0.1923 - acc: 0.9869 - val_loss: 0.4089 - val_acc: 0.9724\n",
      "Epoch 85/100\n",
      "48000/48000 [==============================] - 1s 11us/step - loss: 0.1734 - acc: 0.9884 - val_loss: 0.4411 - val_acc: 0.9707\n",
      "Epoch 86/100\n",
      "48000/48000 [==============================] - 0s 10us/step - loss: 0.1717 - acc: 0.9884 - val_loss: 0.4585 - val_acc: 0.9701\n",
      "Epoch 87/100\n",
      "48000/48000 [==============================] - 0s 10us/step - loss: 0.1765 - acc: 0.9881 - val_loss: 0.4298 - val_acc: 0.9714\n",
      "Epoch 88/100\n",
      "48000/48000 [==============================] - 0s 10us/step - loss: 0.1636 - acc: 0.9891 - val_loss: 0.4564 - val_acc: 0.9693\n",
      "Epoch 89/100\n",
      "48000/48000 [==============================] - 0s 10us/step - loss: 0.1792 - acc: 0.9880 - val_loss: 0.4056 - val_acc: 0.9722\n",
      "Epoch 90/100\n",
      "48000/48000 [==============================] - 0s 10us/step - loss: 0.1866 - acc: 0.9875 - val_loss: 0.4473 - val_acc: 0.9703\n",
      "Epoch 91/100\n",
      "48000/48000 [==============================] - 0s 10us/step - loss: 0.1739 - acc: 0.9883 - val_loss: 0.4573 - val_acc: 0.9697\n",
      "Epoch 92/100\n",
      "48000/48000 [==============================] - 0s 10us/step - loss: 0.1736 - acc: 0.9884 - val_loss: 0.4302 - val_acc: 0.9710\n",
      "Epoch 93/100\n",
      "48000/48000 [==============================] - 0s 10us/step - loss: 0.1665 - acc: 0.9888 - val_loss: 0.4312 - val_acc: 0.9708\n",
      "Epoch 94/100\n",
      "48000/48000 [==============================] - 0s 10us/step - loss: 0.1702 - acc: 0.9883 - val_loss: 0.4472 - val_acc: 0.9697\n",
      "Epoch 95/100\n",
      "48000/48000 [==============================] - 0s 10us/step - loss: 0.1738 - acc: 0.9885 - val_loss: 0.4522 - val_acc: 0.9692\n",
      "Epoch 96/100\n",
      "48000/48000 [==============================] - 0s 10us/step - loss: 0.1795 - acc: 0.9878 - val_loss: 0.4871 - val_acc: 0.9674\n",
      "Epoch 97/100\n",
      "48000/48000 [==============================] - 0s 10us/step - loss: 0.1617 - acc: 0.9893 - val_loss: 0.4350 - val_acc: 0.9707\n",
      "Epoch 98/100\n",
      "48000/48000 [==============================] - 0s 10us/step - loss: 0.1552 - acc: 0.9897 - val_loss: 0.4274 - val_acc: 0.9717\n",
      "Epoch 99/100\n",
      "48000/48000 [==============================] - 0s 10us/step - loss: 0.1608 - acc: 0.9893 - val_loss: 0.4255 - val_acc: 0.9721\n",
      "Epoch 100/100\n",
      "48000/48000 [==============================] - 0s 10us/step - loss: 0.1709 - acc: 0.9886 - val_loss: 0.4791 - val_acc: 0.9679\n"
     ]
    }
   ],
   "source": [
    "history_1 = model_1.fit(x_train_part, \n",
    "                        y_train_part, \n",
    "                        epochs = epoch, \n",
    "                        batch_size = 1024,\n",
    "                        validation_data=(x_train_val, y_train_val))"
   ]
  },
  {
   "cell_type": "markdown",
   "metadata": {},
   "source": [
    "Getting needed statistics from history dictionary"
   ]
  },
  {
   "cell_type": "code",
   "execution_count": 48,
   "metadata": {},
   "outputs": [],
   "source": [
    "history_dict_1 = history_1.history\n",
    "loss_1 = history_dict_1['loss']\n",
    "val_loss_1 = history_dict_1['val_loss']\n",
    "acc_1 = history_dict_1['acc']\n",
    "val_acc_1 = history_dict_1['val_acc']\n",
    "\n",
    "epochs_1 = range(1, len(acc_1)+1)"
   ]
  },
  {
   "cell_type": "markdown",
   "metadata": {},
   "source": [
    "### 2.1.1 Plot the history data for comparison."
   ]
  },
  {
   "cell_type": "code",
   "execution_count": 49,
   "metadata": {},
   "outputs": [
    {
     "data": {
      "image/png": "[encoded data removed]",
      "text/plain": [
       "<Figure size 432x288 with 1 Axes>"
      ]
     },
     "metadata": {
      "needs_background": "light"
     },
     "output_type": "display_data"
    }
   ],
   "source": [
    "plt.plot(epochs_1, loss_1, 'r', label='Training loss')\n",
    "plt.plot(epochs_1, val_loss_1, 'b', label='Validation loss')\n",
    "plt.title('Training and validation loss')\n",
    "plt.xlabel('Epochs')\n",
    "plt.ylabel('Loss')\n",
    "plt.legend()\n",
    "plt.show()"
   ]
  },
  {
   "cell_type": "markdown",
   "metadata": {},
   "source": [
    "We see on the graph that Training loss and Validation loss go to zero and naturally training loss a bit smaller since model was trained on it.\n",
    "___"
   ]
  },
  {
   "cell_type": "code",
   "execution_count": 50,
   "metadata": {},
   "outputs": [
    {
     "data": {
      "image/png": "[encoded data removed]",
      "text/plain": [
       "<Figure size 432x288 with 1 Axes>"
      ]
     },
     "metadata": {
      "needs_background": "light"
     },
     "output_type": "display_data"
    }
   ],
   "source": [
    "plt.plot(epochs_1, acc_1, 'r', label='Training acc')\n",
    "plt.plot(epochs_1, val_acc_1, 'b', label='Validation acc')\n",
    "plt.title('Training and validation accuracy')\n",
    "plt.xlabel('Epochs')\n",
    "plt.ylabel('Accuracy')\n",
    "plt.legend()\n",
    "plt.show()"
   ]
  },
  {
   "cell_type": "markdown",
   "metadata": {},
   "source": [
    "Same here we see training accuracy is better than vaidation one.\n",
    "___"
   ]
  },
  {
   "cell_type": "markdown",
   "metadata": {},
   "source": [
    "### 2.1.2 Confusion matrix and classification report"
   ]
  },
  {
   "cell_type": "markdown",
   "metadata": {},
   "source": [
    "To crate confusion matrix we feed our test data to our model using predict function. We get predicted labels from the model and using confusion matrix to compare actual labels to generated lables by the model.\n",
    "\n",
    "Classification report generates sucessful precentage for each class and shows aveage accuracy."
   ]
  },
  {
   "cell_type": "code",
   "execution_count": 100,
   "metadata": {},
   "outputs": [],
   "source": [
    "y_pred_1 = model_1.predict(x_test_data.reshape(10000, 28*28))\n",
    "y_pred_test_1 = np.argmax(y_pred_1, axis=1)"
   ]
  },
  {
   "cell_type": "code",
   "execution_count": 101,
   "metadata": {
    "scrolled": false
   },
   "outputs": [
    {
     "name": "stdout",
     "output_type": "stream",
     "text": [
      "[[ 969    1    0    2    0    0    2    0    3    3]\n",
      " [   0 1128    4    1    0    0    1    0    1    0]\n",
      " [   5    5  998    8    2    0    2    4    8    0]\n",
      " [   1    2    6  988    0    1    0    4    6    2]\n",
      " [   3    7    3    0  931    0    7    0    4   27]\n",
      " [   2    0    0   14    0  844   14    4    9    5]\n",
      " [   4    4    0    1    3    2  939    0    5    0]\n",
      " [   1   21   12    2    1    0    0  976    2   13]\n",
      " [   7    1    3    4    3    0    2    3  948    3]\n",
      " [   2   11    1    7    4    0    2    4    9  969]]\n",
      "              precision    recall  f1-score   support\n",
      "\n",
      "           0       0.97      0.99      0.98       980\n",
      "           1       0.96      0.99      0.97      1135\n",
      "           2       0.97      0.97      0.97      1032\n",
      "           3       0.96      0.98      0.97      1010\n",
      "           4       0.99      0.95      0.97       982\n",
      "           5       1.00      0.95      0.97       892\n",
      "           6       0.97      0.98      0.97       958\n",
      "           7       0.98      0.95      0.96      1028\n",
      "           8       0.95      0.97      0.96       974\n",
      "           9       0.95      0.96      0.95      1009\n",
      "\n",
      "    accuracy                           0.97     10000\n",
      "   macro avg       0.97      0.97      0.97     10000\n",
      "weighted avg       0.97      0.97      0.97     10000\n",
      "\n"
     ]
    }
   ],
   "source": [
    "print(confusion_matrix(y_test_labels, y_pred_test_1))\n",
    "print(classification_report(y_test_labels, y_pred_test_1))"
   ]
  },
  {
   "cell_type": "markdown",
   "metadata": {},
   "source": [
    "Confusion matrix shows that the model did well of predicting the numbers. Some sevens and fours confused with nine, and some sevens confused with one also.\n",
    "\n",
    "Accuracy is pretty good on the test data. The least accuracy is 9 because some numbers were confused to this category, but overall accuracy is still good."
   ]
  },
  {
   "cell_type": "markdown",
   "metadata": {},
   "source": [
    "### 2.2 One hidden layer with 400 nodes"
   ]
  },
  {
   "cell_type": "markdown",
   "metadata": {},
   "source": [
    "#### Assembling the model\n",
    "Creating sequential model with 1 hidden layer of 400 nodes and final output layer of 10 nodes that will be matching our hot-vectors of the lables.\n",
    "\n",
    "We use input shape only once at the first layer because it needs to know what it gets when other layers will be able to figure it out based on a previous layer. \n",
    "\n",
    "Activation relu is a simple linear function that zeros-out all negative weights to have all positive weight to have intentional affect on a model. Relu is usually used on hidden layers.\n",
    "\n",
    "Activation softmax gives likehood probabilities of each output category. The maximum probability among categories is what a model choose. "
   ]
  },
  {
   "cell_type": "code",
   "execution_count": 53,
   "metadata": {},
   "outputs": [],
   "source": [
    "model_4 = models.Sequential()\n",
    "model_4.add(layers.Dense(400, activation='relu',input_shape=(28*28,)))\n",
    "model_4.add(layers.Dense(10, activation='softmax'))"
   ]
  },
  {
   "cell_type": "markdown",
   "metadata": {},
   "source": [
    "#### Compiling the model\n",
    "Rmsprop optimizer similar to rprop taking two gradients of the last two weights but increasing them in magnitude to converge faster. \n",
    "\n",
    "We use categorical crossentropy because we have multiple categories to choose from."
   ]
  },
  {
   "cell_type": "code",
   "execution_count": 54,
   "metadata": {},
   "outputs": [],
   "source": [
    "model_4.compile(optimizer='rmsprop',loss='categorical_crossentropy', metrics=['acc'])"
   ]
  },
  {
   "cell_type": "markdown",
   "metadata": {},
   "source": [
    "#### Train the model\n",
    "This model with 400 nodes performs worse that 100 nodes in general. When 100 nodes most of the time classifies all the numbers. 400 nodes doesn't classify at least one number completely every time I run it. I tried to reduce a batch size to improve accuracy. It did help, but overall accuracy is still on the low side. Minimum batch I've tried was 32. Also, I did 512 batch size with 500 epochs that trained the model well but takes up unresonable amount of time.\n",
    "\n",
    "Model returns a history object that I save."
   ]
  },
  {
   "cell_type": "code",
   "execution_count": 95,
   "metadata": {
    "scrolled": true
   },
   "outputs": [
    {
     "name": "stdout",
     "output_type": "stream",
     "text": [
      "Train on 48000 samples, validate on 12000 samples\n",
      "Epoch 1/100\n",
      "48000/48000 [==============================] - 3s 62us/step - loss: 1.8621 - acc: 0.8843 - val_loss: 1.9941 - val_acc: 0.8761\n",
      "Epoch 2/100\n",
      "48000/48000 [==============================] - 3s 61us/step - loss: 1.8679 - acc: 0.8839 - val_loss: 1.9830 - val_acc: 0.8766\n",
      "Epoch 3/100\n",
      "48000/48000 [==============================] - 3s 61us/step - loss: 1.8492 - acc: 0.8850 - val_loss: 1.9776 - val_acc: 0.8769\n",
      "Epoch 4/100\n",
      "48000/48000 [==============================] - 3s 62us/step - loss: 1.8725 - acc: 0.8835 - val_loss: 2.0208 - val_acc: 0.8741\n",
      "Epoch 5/100\n",
      "48000/48000 [==============================] - 3s 63us/step - loss: 1.8873 - acc: 0.8827 - val_loss: 2.0349 - val_acc: 0.8734\n",
      "Epoch 6/100\n",
      "48000/48000 [==============================] - 3s 70us/step - loss: 1.8693 - acc: 0.8838 - val_loss: 2.0399 - val_acc: 0.8729\n",
      "Epoch 7/100\n",
      "48000/48000 [==============================] - 4s 77us/step - loss: 1.8605 - acc: 0.8842 - val_loss: 2.0020 - val_acc: 0.8754\n",
      "Epoch 8/100\n",
      "48000/48000 [==============================] - 4s 75us/step - loss: 1.8707 - acc: 0.8836 - val_loss: 2.0103 - val_acc: 0.8749\n",
      "Epoch 9/100\n",
      "48000/48000 [==============================] - 4s 74us/step - loss: 1.8410 - acc: 0.8855 - val_loss: 1.9610 - val_acc: 0.8778\n",
      "Epoch 10/100\n",
      "48000/48000 [==============================] - 4s 75us/step - loss: 1.8162 - acc: 0.8871 - val_loss: 1.9690 - val_acc: 0.8775\n",
      "Epoch 11/100\n",
      "48000/48000 [==============================] - 4s 75us/step - loss: 1.8272 - acc: 0.8865 - val_loss: 1.9619 - val_acc: 0.8780\n",
      "Epoch 12/100\n",
      "48000/48000 [==============================] - 4s 80us/step - loss: 1.8554 - acc: 0.8845 - val_loss: 2.0158 - val_acc: 0.8745\n",
      "Epoch 13/100\n",
      "48000/48000 [==============================] - 4s 86us/step - loss: 1.8378 - acc: 0.8856 - val_loss: 2.0329 - val_acc: 0.8737\n",
      "Epoch 14/100\n",
      "48000/48000 [==============================] - 4s 79us/step - loss: 1.8491 - acc: 0.8850 - val_loss: 1.9476 - val_acc: 0.8788\n",
      "Epoch 15/100\n",
      "48000/48000 [==============================] - 4s 82us/step - loss: 1.8358 - acc: 0.8859 - val_loss: 2.0250 - val_acc: 0.8742\n",
      "Epoch 16/100\n",
      "48000/48000 [==============================] - 4s 79us/step - loss: 1.8947 - acc: 0.8821 - val_loss: 2.0487 - val_acc: 0.8726\n",
      "Epoch 17/100\n",
      "48000/48000 [==============================] - 4s 78us/step - loss: 1.8565 - acc: 0.8845 - val_loss: 2.0178 - val_acc: 0.8745\n",
      "Epoch 18/100\n",
      "48000/48000 [==============================] - 4s 75us/step - loss: 1.8406 - acc: 0.8856 - val_loss: 1.9782 - val_acc: 0.8769\n",
      "Epoch 19/100\n",
      "48000/48000 [==============================] - 4s 74us/step - loss: 1.8241 - acc: 0.8865 - val_loss: 1.9472 - val_acc: 0.8787\n",
      "Epoch 20/100\n",
      "48000/48000 [==============================] - 4s 73us/step - loss: 1.8313 - acc: 0.8861 - val_loss: 1.9644 - val_acc: 0.8777\n",
      "Epoch 21/100\n",
      "48000/48000 [==============================] - 4s 74us/step - loss: 1.8385 - acc: 0.8856 - val_loss: 1.9353 - val_acc: 0.8796\n",
      "Epoch 22/100\n",
      "48000/48000 [==============================] - 4s 74us/step - loss: 1.8117 - acc: 0.8873 - val_loss: 1.9587 - val_acc: 0.8780\n",
      "Epoch 23/100\n",
      "48000/48000 [==============================] - 4s 75us/step - loss: 1.8516 - acc: 0.8849 - val_loss: 1.9570 - val_acc: 0.8783\n",
      "Epoch 24/100\n",
      "48000/48000 [==============================] - 4s 75us/step - loss: 1.8652 - acc: 0.8840 - val_loss: 2.0012 - val_acc: 0.8756\n",
      "Epoch 25/100\n",
      "48000/48000 [==============================] - 4s 76us/step - loss: 1.8333 - acc: 0.8859 - val_loss: 2.0116 - val_acc: 0.8749\n",
      "Epoch 26/100\n",
      "48000/48000 [==============================] - 4s 74us/step - loss: 1.8428 - acc: 0.8854 - val_loss: 1.9599 - val_acc: 0.8782\n",
      "Epoch 27/100\n",
      "48000/48000 [==============================] - 4s 74us/step - loss: 1.8234 - acc: 0.8866 - val_loss: 1.9600 - val_acc: 0.8782\n",
      "Epoch 28/100\n",
      "48000/48000 [==============================] - 4s 75us/step - loss: 1.8252 - acc: 0.8865 - val_loss: 1.9993 - val_acc: 0.8753\n",
      "Epoch 29/100\n",
      "48000/48000 [==============================] - 4s 76us/step - loss: 1.8203 - acc: 0.8868 - val_loss: 1.9570 - val_acc: 0.8782\n",
      "Epoch 30/100\n",
      "48000/48000 [==============================] - 4s 75us/step - loss: 1.8270 - acc: 0.8864 - val_loss: 1.9847 - val_acc: 0.8767\n",
      "Epoch 31/100\n",
      "48000/48000 [==============================] - 4s 74us/step - loss: 1.8071 - acc: 0.8877 - val_loss: 1.9711 - val_acc: 0.8775\n",
      "Epoch 32/100\n",
      "48000/48000 [==============================] - 4s 74us/step - loss: 1.8393 - acc: 0.8857 - val_loss: 1.9867 - val_acc: 0.8766\n",
      "Epoch 33/100\n",
      "48000/48000 [==============================] - 4s 73us/step - loss: 1.8238 - acc: 0.8867 - val_loss: 1.9603 - val_acc: 0.8781\n",
      "Epoch 34/100\n",
      "48000/48000 [==============================] - 4s 75us/step - loss: 1.8375 - acc: 0.8858 - val_loss: 1.9887 - val_acc: 0.8763\n",
      "Epoch 35/100\n",
      "48000/48000 [==============================] - 4s 73us/step - loss: 1.8319 - acc: 0.8860 - val_loss: 1.9695 - val_acc: 0.8777\n",
      "Epoch 36/100\n",
      "48000/48000 [==============================] - 4s 74us/step - loss: 1.8267 - acc: 0.8864 - val_loss: 2.0025 - val_acc: 0.8753\n",
      "Epoch 37/100\n",
      "48000/48000 [==============================] - 4s 74us/step - loss: 1.8293 - acc: 0.8862 - val_loss: 1.9816 - val_acc: 0.8768\n",
      "Epoch 38/100\n",
      "48000/48000 [==============================] - 4s 75us/step - loss: 1.8558 - acc: 0.8846 - val_loss: 1.9934 - val_acc: 0.8759\n",
      "Epoch 39/100\n",
      "48000/48000 [==============================] - 4s 74us/step - loss: 1.8170 - acc: 0.8871 - val_loss: 1.9961 - val_acc: 0.8758\n",
      "Epoch 40/100\n",
      "48000/48000 [==============================] - 4s 77us/step - loss: 1.8153 - acc: 0.8872 - val_loss: 1.9520 - val_acc: 0.8786\n",
      "Epoch 41/100\n",
      "48000/48000 [==============================] - 4s 75us/step - loss: 1.8113 - acc: 0.8873 - val_loss: 1.9941 - val_acc: 0.8760\n",
      "Epoch 42/100\n",
      "48000/48000 [==============================] - 4s 77us/step - loss: 1.8309 - acc: 0.8862 - val_loss: 1.9732 - val_acc: 0.8773\n",
      "Epoch 43/100\n",
      "48000/48000 [==============================] - 4s 78us/step - loss: 1.8250 - acc: 0.8865 - val_loss: 1.9901 - val_acc: 0.8762\n",
      "Epoch 44/100\n",
      "48000/48000 [==============================] - 4s 75us/step - loss: 1.8683 - acc: 0.8839 - val_loss: 1.9674 - val_acc: 0.8776\n",
      "Epoch 45/100\n",
      "48000/48000 [==============================] - 4s 74us/step - loss: 1.8178 - acc: 0.8870 - val_loss: 1.9668 - val_acc: 0.8777\n",
      "Epoch 46/100\n",
      "48000/48000 [==============================] - 4s 73us/step - loss: 1.8319 - acc: 0.8862 - val_loss: 2.0384 - val_acc: 0.8733\n",
      "Epoch 47/100\n",
      "48000/48000 [==============================] - 4s 75us/step - loss: 1.8466 - acc: 0.8852 - val_loss: 2.0406 - val_acc: 0.8731\n",
      "Epoch 48/100\n",
      "48000/48000 [==============================] - 4s 73us/step - loss: 1.8436 - acc: 0.8855 - val_loss: 1.9772 - val_acc: 0.8770\n",
      "Epoch 49/100\n",
      "48000/48000 [==============================] - 4s 74us/step - loss: 1.8556 - acc: 0.8847 - val_loss: 1.9701 - val_acc: 0.8775\n",
      "Epoch 50/100\n",
      "48000/48000 [==============================] - 4s 74us/step - loss: 1.8364 - acc: 0.8858 - val_loss: 1.9690 - val_acc: 0.8777\n",
      "Epoch 51/100\n",
      "48000/48000 [==============================] - 4s 74us/step - loss: 1.8535 - acc: 0.8848 - val_loss: 1.9672 - val_acc: 0.8777\n",
      "Epoch 52/100\n",
      "48000/48000 [==============================] - 4s 74us/step - loss: 1.8517 - acc: 0.8849 - val_loss: 1.9994 - val_acc: 0.8755\n",
      "Epoch 53/100\n",
      "48000/48000 [==============================] - 4s 73us/step - loss: 1.8536 - acc: 0.8848 - val_loss: 2.0001 - val_acc: 0.8756\n",
      "Epoch 54/100\n",
      "48000/48000 [==============================] - 4s 74us/step - loss: 1.8206 - acc: 0.8869 - val_loss: 1.9607 - val_acc: 0.8780\n",
      "Epoch 55/100\n",
      "48000/48000 [==============================] - 4s 75us/step - loss: 1.8340 - acc: 0.8859 - val_loss: 1.9909 - val_acc: 0.8763\n",
      "Epoch 56/100\n",
      "48000/48000 [==============================] - 4s 75us/step - loss: 1.8308 - acc: 0.8862 - val_loss: 1.9712 - val_acc: 0.8772\n",
      "Epoch 57/100\n",
      "48000/48000 [==============================] - 4s 74us/step - loss: 1.8222 - acc: 0.8869 - val_loss: 1.9662 - val_acc: 0.8777\n",
      "Epoch 58/100\n",
      "48000/48000 [==============================] - 4s 74us/step - loss: 1.8373 - acc: 0.8858 - val_loss: 1.9929 - val_acc: 0.8761\n",
      "Epoch 59/100\n",
      "48000/48000 [==============================] - 3s 68us/step - loss: 1.8166 - acc: 0.8869 - val_loss: 2.0122 - val_acc: 0.8747\n",
      "Epoch 60/100\n",
      "48000/48000 [==============================] - 3s 66us/step - loss: 1.8256 - acc: 0.8865 - val_loss: 1.9650 - val_acc: 0.8778\n",
      "Epoch 61/100\n",
      "48000/48000 [==============================] - 3s 68us/step - loss: 1.8345 - acc: 0.8860 - val_loss: 2.0023 - val_acc: 0.8755\n",
      "Epoch 62/100\n",
      "48000/48000 [==============================] - 3s 68us/step - loss: 1.8148 - acc: 0.8873 - val_loss: 1.9766 - val_acc: 0.8771\n",
      "Epoch 63/100\n",
      "48000/48000 [==============================] - 3s 68us/step - loss: 1.8194 - acc: 0.8870 - val_loss: 2.0543 - val_acc: 0.8718\n",
      "Epoch 64/100\n",
      "48000/48000 [==============================] - 3s 68us/step - loss: 1.8005 - acc: 0.8881 - val_loss: 1.9606 - val_acc: 0.8779\n",
      "Epoch 65/100\n",
      "48000/48000 [==============================] - 3s 68us/step - loss: 1.8023 - acc: 0.8880 - val_loss: 1.9801 - val_acc: 0.8768\n",
      "Epoch 66/100\n",
      "48000/48000 [==============================] - 3s 68us/step - loss: 1.8185 - acc: 0.8871 - val_loss: 2.0036 - val_acc: 0.8754\n",
      "Epoch 67/100\n",
      "48000/48000 [==============================] - 3s 68us/step - loss: 1.8384 - acc: 0.8857 - val_loss: 2.0055 - val_acc: 0.8750\n",
      "Epoch 68/100\n",
      "48000/48000 [==============================] - 3s 67us/step - loss: 1.7927 - acc: 0.8886 - val_loss: 1.9480 - val_acc: 0.8787\n",
      "Epoch 69/100\n",
      "48000/48000 [==============================] - 3s 71us/step - loss: 1.8165 - acc: 0.8871 - val_loss: 1.9994 - val_acc: 0.8756\n",
      "Epoch 70/100\n",
      "48000/48000 [==============================] - 3s 68us/step - loss: 1.8198 - acc: 0.8869 - val_loss: 2.0070 - val_acc: 0.8751\n",
      "Epoch 71/100\n",
      "48000/48000 [==============================] - 3s 68us/step - loss: 1.8015 - acc: 0.8881 - val_loss: 1.9408 - val_acc: 0.8792\n",
      "Epoch 72/100\n",
      "48000/48000 [==============================] - 3s 70us/step - loss: 1.7973 - acc: 0.8883 - val_loss: 1.9600 - val_acc: 0.8780\n",
      "Epoch 73/100\n",
      "48000/48000 [==============================] - 3s 68us/step - loss: 1.8258 - acc: 0.8865 - val_loss: 1.9684 - val_acc: 0.8777\n",
      "Epoch 74/100\n",
      "48000/48000 [==============================] - 3s 67us/step - loss: 1.8033 - acc: 0.8879 - val_loss: 2.0340 - val_acc: 0.8735\n",
      "Epoch 75/100\n",
      "48000/48000 [==============================] - 3s 67us/step - loss: 1.8158 - acc: 0.8871 - val_loss: 2.0019 - val_acc: 0.8753\n",
      "Epoch 76/100\n",
      "48000/48000 [==============================] - 3s 67us/step - loss: 1.8081 - acc: 0.8876 - val_loss: 1.9689 - val_acc: 0.8775\n",
      "Epoch 77/100\n",
      "48000/48000 [==============================] - 3s 67us/step - loss: 1.7918 - acc: 0.8887 - val_loss: 1.9453 - val_acc: 0.8790\n",
      "Epoch 78/100\n",
      "48000/48000 [==============================] - 3s 67us/step - loss: 1.7787 - acc: 0.8895 - val_loss: 1.9462 - val_acc: 0.8788\n",
      "Epoch 79/100\n",
      "48000/48000 [==============================] - 3s 68us/step - loss: 1.7813 - acc: 0.8893 - val_loss: 1.9619 - val_acc: 0.8778\n",
      "Epoch 80/100\n",
      "48000/48000 [==============================] - 3s 68us/step - loss: 1.7937 - acc: 0.8886 - val_loss: 1.9487 - val_acc: 0.8788\n",
      "Epoch 81/100\n",
      "48000/48000 [==============================] - 3s 69us/step - loss: 1.7851 - acc: 0.8891 - val_loss: 1.9602 - val_acc: 0.8780\n",
      "Epoch 82/100\n",
      "48000/48000 [==============================] - 3s 69us/step - loss: 1.8059 - acc: 0.8877 - val_loss: 1.9947 - val_acc: 0.8761\n",
      "Epoch 83/100\n",
      "48000/48000 [==============================] - 3s 68us/step - loss: 1.7810 - acc: 0.8893 - val_loss: 1.9594 - val_acc: 0.8782\n",
      "Epoch 84/100\n",
      "48000/48000 [==============================] - 3s 67us/step - loss: 1.7871 - acc: 0.8890 - val_loss: 1.9614 - val_acc: 0.8781\n",
      "Epoch 85/100\n",
      "48000/48000 [==============================] - 3s 67us/step - loss: 1.7893 - acc: 0.8888 - val_loss: 1.9503 - val_acc: 0.8786\n",
      "Epoch 86/100\n",
      "48000/48000 [==============================] - 3s 67us/step - loss: 1.7980 - acc: 0.8883 - val_loss: 1.9991 - val_acc: 0.8758\n",
      "Epoch 87/100\n",
      "48000/48000 [==============================] - 3s 68us/step - loss: 1.7886 - acc: 0.8889 - val_loss: 1.9577 - val_acc: 0.8784\n",
      "Epoch 88/100\n",
      "48000/48000 [==============================] - 3s 68us/step - loss: 1.7806 - acc: 0.8893 - val_loss: 1.9614 - val_acc: 0.8782\n",
      "Epoch 89/100\n",
      "48000/48000 [==============================] - 3s 67us/step - loss: 1.7864 - acc: 0.8889 - val_loss: 1.9322 - val_acc: 0.8798\n",
      "Epoch 90/100\n",
      "48000/48000 [==============================] - 3s 67us/step - loss: 1.7769 - acc: 0.8896 - val_loss: 1.9616 - val_acc: 0.8780\n",
      "Epoch 91/100\n",
      "48000/48000 [==============================] - 3s 68us/step - loss: 1.7940 - acc: 0.8885 - val_loss: 1.9914 - val_acc: 0.8760\n",
      "Epoch 92/100\n",
      "48000/48000 [==============================] - 3s 69us/step - loss: 1.7940 - acc: 0.8885 - val_loss: 1.9324 - val_acc: 0.8800\n",
      "Epoch 93/100\n",
      "48000/48000 [==============================] - 3s 68us/step - loss: 1.7843 - acc: 0.8890 - val_loss: 1.9475 - val_acc: 0.8788\n",
      "Epoch 94/100\n",
      "48000/48000 [==============================] - 3s 67us/step - loss: 1.7663 - acc: 0.8903 - val_loss: 1.9449 - val_acc: 0.8792\n",
      "Epoch 95/100\n",
      "48000/48000 [==============================] - 3s 69us/step - loss: 1.7715 - acc: 0.8900 - val_loss: 1.9191 - val_acc: 0.8806\n",
      "Epoch 96/100\n",
      "48000/48000 [==============================] - 3s 68us/step - loss: 1.7641 - acc: 0.8904 - val_loss: 1.9462 - val_acc: 0.8790\n",
      "Epoch 97/100\n",
      "48000/48000 [==============================] - 3s 69us/step - loss: 1.7897 - acc: 0.8888 - val_loss: 1.9369 - val_acc: 0.8797\n",
      "Epoch 98/100\n",
      "48000/48000 [==============================] - 3s 68us/step - loss: 1.7875 - acc: 0.8890 - val_loss: 1.9314 - val_acc: 0.8801\n",
      "Epoch 99/100\n",
      "48000/48000 [==============================] - 3s 70us/step - loss: 1.7774 - acc: 0.8895 - val_loss: 1.9353 - val_acc: 0.8793\n",
      "Epoch 100/100\n",
      "48000/48000 [==============================] - 5s 101us/step - loss: 1.7958 - acc: 0.8884 - val_loss: 1.9505 - val_acc: 0.8787\n"
     ]
    }
   ],
   "source": [
    "history_4 = model_4.fit(x_train_part, \n",
    "                        y_train_part, \n",
    "                        epochs = epoch, \n",
    "                        batch_size = 100, \n",
    "                        validation_data = (x_train_val, y_train_val))"
   ]
  },
  {
   "cell_type": "markdown",
   "metadata": {},
   "source": [
    "Getting needed statistics from history dictionary to plot graphs."
   ]
  },
  {
   "cell_type": "code",
   "execution_count": 96,
   "metadata": {},
   "outputs": [],
   "source": [
    "history_dict_4 = history_4.history\n",
    "loss_4 = history_dict_4['loss']\n",
    "val_loss_4 = history_dict_4['val_loss']\n",
    "acc_4 = history_dict_4['acc']\n",
    "val_acc_4 = history_dict_4['val_acc']"
   ]
  },
  {
   "cell_type": "markdown",
   "metadata": {},
   "source": [
    "## 2.2.1 Plot the history data for comparison."
   ]
  },
  {
   "cell_type": "code",
   "execution_count": 97,
   "metadata": {},
   "outputs": [
    {
     "data": {
      "image/png": "[encoded data removed]",
      "text/plain": [
       "<Figure size 432x288 with 1 Axes>"
      ]
     },
     "metadata": {
      "needs_background": "light"
     },
     "output_type": "display_data"
    }
   ],
   "source": [
    "epochs_4 = range(1, len(acc_4)+1)\n",
    "plt.plot(epochs_4, loss_4, 'r', label='Training loss')\n",
    "plt.plot(epochs_4, val_loss_4, 'b', label='Validation loss')\n",
    "plt.title('Training and validation loss')\n",
    "plt.xlabel('Epochs')\n",
    "plt.ylabel('Loss')\n",
    "plt.legend()\n",
    "plt.show()"
   ]
  },
  {
   "cell_type": "markdown",
   "metadata": {},
   "source": [
    "There is a difference between this and the previous network. The loss is not significantly changing over 100 epochs. Also, the model performs much to be desired on the validaiton data.  \n",
    "___"
   ]
  },
  {
   "cell_type": "code",
   "execution_count": 98,
   "metadata": {},
   "outputs": [
    {
     "data": {
      "image/png": "[encoded data removed]",
      "text/plain": [
       "<Figure size 432x288 with 1 Axes>"
      ]
     },
     "metadata": {
      "needs_background": "light"
     },
     "output_type": "display_data"
    }
   ],
   "source": [
    "plt.plot(epochs_4, acc_4, 'r', label='Training acc')\n",
    "plt.plot(epochs_4, val_acc_4, 'b', label='Validation acc')\n",
    "plt.title('Training and validation accuracy')\n",
    "plt.xlabel('Epochs')\n",
    "plt.ylabel('Accuracy')\n",
    "plt.legend()\n",
    "plt.show()"
   ]
  },
  {
   "cell_type": "markdown",
   "metadata": {},
   "source": [
    "Accuracy is also not really great initially with larger batch it was about 0.6 by significatnly decreasing batch size I got better results over 100 epochs. Overall, this model didn't performed well.\n",
    "___"
   ]
  },
  {
   "cell_type": "code",
   "execution_count": 99,
   "metadata": {},
   "outputs": [],
   "source": [
    "y_pred_4 = model_4.predict(x_test_data.reshape(10000, 28*28))\n",
    "y_pred_test_4 = np.argmax(y_pred_4, axis=1)"
   ]
  },
  {
   "cell_type": "code",
   "execution_count": 94,
   "metadata": {
    "scrolled": false
   },
   "outputs": [
    {
     "name": "stdout",
     "output_type": "stream",
     "text": [
      "[[ 967    0    3    0    0    1    5    1    3    0]\n",
      " [   0 1117    2    3    0    0    4    0    9    0]\n",
      " [   6    1 1007    2    2    0    2    5    7    0]\n",
      " [   0    0    6  992    0    1    0    5    6    0]\n",
      " [   1    0    3    0  962    0    8    2    6    0]\n",
      " [   3    0    0   16    1  847   10    0   15    0]\n",
      " [   5    2    0    0    1    3  941    1    5    0]\n",
      " [   1    5   14    5    2    0    0  996    5    0]\n",
      " [   0    1    3    7    1    1    6    3  952    0]\n",
      " [   7    7    2   49  594   32    2  235   81    0]]\n",
      "              precision    recall  f1-score   support\n",
      "\n",
      "           0       0.98      0.99      0.98       980\n",
      "           1       0.99      0.98      0.99      1135\n",
      "           2       0.97      0.98      0.97      1032\n",
      "           3       0.92      0.98      0.95      1010\n",
      "           4       0.62      0.98      0.76       982\n",
      "           5       0.96      0.95      0.95       892\n",
      "           6       0.96      0.98      0.97       958\n",
      "           7       0.80      0.97      0.88      1028\n",
      "           8       0.87      0.98      0.92       974\n",
      "           9       0.00      0.00      0.00      1009\n",
      "\n",
      "    accuracy                           0.88     10000\n",
      "   macro avg       0.81      0.88      0.84     10000\n",
      "weighted avg       0.81      0.88      0.84     10000\n",
      "\n"
     ]
    }
   ],
   "source": [
    "print(confusion_matrix(y_test_labels, y_pred_test_4))\n",
    "print(classification_report(y_test_labels, y_pred_test_4))"
   ]
  },
  {
   "cell_type": "markdown",
   "metadata": {},
   "source": [
    "Confusion matrix shows that number 9 wasn't recognized at all by the model. Nine was missclassified as mostly as 4 and 7.\n",
    "\n",
    "Because of number 9 wasn't classified completely it significantly decreased overall accuracy. Also, it affected accuracy where 9 was missclassified to — 4 and 7."
   ]
  },
  {
   "cell_type": "markdown",
   "metadata": {},
   "source": [
    "### 3.1 Two hidden layers neural networks"
   ]
  },
  {
   "cell_type": "markdown",
   "metadata": {},
   "source": [
    "#### Assembling the model\n",
    "Creating model with two identical hidden layers with the same parameters as before. Compiling and train the model the same way as well. I just kept larger batch to save time on training. I tried different batches; 1024 size performed a bit better that I'd tried before. I had as small as 512 batch size."
   ]
  },
  {
   "cell_type": "code",
   "execution_count": 61,
   "metadata": {},
   "outputs": [],
   "source": [
    "model_2_2 = models.Sequential()\n",
    "model_2_2.add(layers.Dense(200, activation='relu', input_shape = (28*28,)))\n",
    "model_2_2.add(layers.Dense(200, activation='relu'))\n",
    "model_2_2.add(layers.Dense(10, activation='softmax'))"
   ]
  },
  {
   "cell_type": "markdown",
   "metadata": {},
   "source": [
    "#### Compiling the model"
   ]
  },
  {
   "cell_type": "code",
   "execution_count": 62,
   "metadata": {},
   "outputs": [],
   "source": [
    "model_2_2.compile(optimizer='rmsprop', loss='categorical_crossentropy', metrics=['acc'])"
   ]
  },
  {
   "cell_type": "markdown",
   "metadata": {},
   "source": [
    "#### Tran the model"
   ]
  },
  {
   "cell_type": "code",
   "execution_count": 77,
   "metadata": {
    "scrolled": true
   },
   "outputs": [
    {
     "name": "stdout",
     "output_type": "stream",
     "text": [
      "Train on 60000 samples, validate on 12000 samples\n",
      "Epoch 1/100\n",
      "60000/60000 [==============================] - 1s 16us/step - loss: 5.1876 - acc: 0.6780 - val_loss: 5.1553 - val_acc: 0.6800\n",
      "Epoch 2/100\n",
      "60000/60000 [==============================] - 1s 15us/step - loss: 5.1648 - acc: 0.6793 - val_loss: 5.1739 - val_acc: 0.6787\n",
      "Epoch 3/100\n",
      "60000/60000 [==============================] - 1s 15us/step - loss: 5.1735 - acc: 0.6788 - val_loss: 5.1483 - val_acc: 0.6803\n",
      "Epoch 4/100\n",
      "60000/60000 [==============================] - 1s 15us/step - loss: 5.1435 - acc: 0.6807 - val_loss: 5.1545 - val_acc: 0.6801\n",
      "Epoch 5/100\n",
      "60000/60000 [==============================] - 1s 15us/step - loss: 5.1248 - acc: 0.6818 - val_loss: 5.1301 - val_acc: 0.6817\n",
      "Epoch 6/100\n",
      "60000/60000 [==============================] - 1s 16us/step - loss: 5.1517 - acc: 0.6802 - val_loss: 5.1788 - val_acc: 0.6785\n",
      "Epoch 7/100\n",
      "60000/60000 [==============================] - 1s 16us/step - loss: 5.1722 - acc: 0.6788 - val_loss: 5.1441 - val_acc: 0.6803\n",
      "Epoch 8/100\n",
      "60000/60000 [==============================] - 1s 16us/step - loss: 5.1909 - acc: 0.6776 - val_loss: 5.2184 - val_acc: 0.6759\n",
      "Epoch 9/100\n",
      "60000/60000 [==============================] - 1s 16us/step - loss: 5.1499 - acc: 0.6803 - val_loss: 5.1213 - val_acc: 0.6820\n",
      "Epoch 10/100\n",
      "60000/60000 [==============================] - 1s 16us/step - loss: 5.1660 - acc: 0.6793 - val_loss: 5.1338 - val_acc: 0.6811\n",
      "Epoch 11/100\n",
      "60000/60000 [==============================] - 1s 16us/step - loss: 5.1758 - acc: 0.6787 - val_loss: 5.1004 - val_acc: 0.6833\n",
      "Epoch 12/100\n",
      "60000/60000 [==============================] - 1s 16us/step - loss: 5.1508 - acc: 0.6803 - val_loss: 5.1746 - val_acc: 0.6788\n",
      "Epoch 13/100\n",
      "60000/60000 [==============================] - 1s 15us/step - loss: 5.1484 - acc: 0.6804 - val_loss: 5.4795 - val_acc: 0.6595\n",
      "Epoch 14/100\n",
      "60000/60000 [==============================] - 1s 16us/step - loss: 5.1984 - acc: 0.6772 - val_loss: 5.1852 - val_acc: 0.6780\n",
      "Epoch 15/100\n",
      "60000/60000 [==============================] - 1s 16us/step - loss: 5.1449 - acc: 0.6806 - val_loss: 5.1778 - val_acc: 0.6783\n",
      "Epoch 16/100\n",
      "60000/60000 [==============================] - 1s 19us/step - loss: 5.1517 - acc: 0.6801 - val_loss: 5.1393 - val_acc: 0.6810\n",
      "Epoch 17/100\n",
      "60000/60000 [==============================] - 1s 20us/step - loss: 5.1301 - acc: 0.6815 - val_loss: 5.1148 - val_acc: 0.6825\n",
      "Epoch 18/100\n",
      "60000/60000 [==============================] - 1s 19us/step - loss: 5.1405 - acc: 0.6809 - val_loss: 5.0841 - val_acc: 0.6844\n",
      "Epoch 19/100\n",
      "60000/60000 [==============================] - 1s 19us/step - loss: 5.0994 - acc: 0.6835 - val_loss: 5.1096 - val_acc: 0.6827\n",
      "Epoch 20/100\n",
      "60000/60000 [==============================] - 1s 19us/step - loss: 5.0952 - acc: 0.6836 - val_loss: 5.1132 - val_acc: 0.6823\n",
      "Epoch 21/100\n",
      "60000/60000 [==============================] - 1s 19us/step - loss: 5.1184 - acc: 0.6823 - val_loss: 5.0972 - val_acc: 0.6836\n",
      "Epoch 22/100\n",
      "60000/60000 [==============================] - 1s 19us/step - loss: 5.1505 - acc: 0.6803 - val_loss: 5.1545 - val_acc: 0.6800\n",
      "Epoch 23/100\n",
      "60000/60000 [==============================] - 1s 20us/step - loss: 5.1505 - acc: 0.6803 - val_loss: 5.1075 - val_acc: 0.6830\n",
      "Epoch 24/100\n",
      "60000/60000 [==============================] - 1s 21us/step - loss: 5.1249 - acc: 0.6817 - val_loss: 5.1165 - val_acc: 0.6822\n",
      "Epoch 25/100\n",
      "60000/60000 [==============================] - 1s 20us/step - loss: 5.1347 - acc: 0.6813 - val_loss: 5.1232 - val_acc: 0.6820\n",
      "Epoch 26/100\n",
      "60000/60000 [==============================] - 1s 20us/step - loss: 5.1419 - acc: 0.6808 - val_loss: 5.0850 - val_acc: 0.6845\n",
      "Epoch 27/100\n",
      "60000/60000 [==============================] - 1s 19us/step - loss: 5.1102 - acc: 0.6828 - val_loss: 5.1041 - val_acc: 0.6832\n",
      "Epoch 28/100\n",
      "60000/60000 [==============================] - 1s 19us/step - loss: 5.1225 - acc: 0.6820 - val_loss: 5.1073 - val_acc: 0.6829\n",
      "Epoch 29/100\n",
      "60000/60000 [==============================] - 1s 21us/step - loss: 5.1059 - acc: 0.6831 - val_loss: 5.1276 - val_acc: 0.6817\n",
      "Epoch 30/100\n",
      "60000/60000 [==============================] - 1s 22us/step - loss: 5.1263 - acc: 0.6818 - val_loss: 5.1292 - val_acc: 0.6816\n",
      "Epoch 31/100\n",
      "60000/60000 [==============================] - 1s 24us/step - loss: 5.1124 - acc: 0.6826 - val_loss: 5.0995 - val_acc: 0.6836\n",
      "Epoch 32/100\n",
      "60000/60000 [==============================] - 1s 20us/step - loss: 5.0999 - acc: 0.6834 - val_loss: 5.2278 - val_acc: 0.6756\n",
      "Epoch 33/100\n",
      "60000/60000 [==============================] - 1s 20us/step - loss: 5.1233 - acc: 0.6818 - val_loss: 5.1329 - val_acc: 0.6813\n",
      "Epoch 34/100\n",
      "60000/60000 [==============================] - 1s 20us/step - loss: 5.1134 - acc: 0.6825 - val_loss: 5.1193 - val_acc: 0.6820\n",
      "Epoch 35/100\n",
      "60000/60000 [==============================] - 1s 19us/step - loss: 5.0851 - acc: 0.6843 - val_loss: 5.1007 - val_acc: 0.6835\n",
      "Epoch 36/100\n",
      "60000/60000 [==============================] - 1s 19us/step - loss: 5.0850 - acc: 0.6844 - val_loss: 5.0972 - val_acc: 0.6837\n",
      "Epoch 37/100\n",
      "60000/60000 [==============================] - 1s 19us/step - loss: 5.1210 - acc: 0.6821 - val_loss: 5.1291 - val_acc: 0.6816\n",
      "Epoch 38/100\n",
      "60000/60000 [==============================] - 1s 21us/step - loss: 5.1012 - acc: 0.6834 - val_loss: 5.1206 - val_acc: 0.6821\n",
      "Epoch 39/100\n",
      "60000/60000 [==============================] - 1s 19us/step - loss: 5.1208 - acc: 0.6821 - val_loss: 5.1105 - val_acc: 0.6827\n",
      "Epoch 40/100\n",
      "60000/60000 [==============================] - 1s 20us/step - loss: 5.1226 - acc: 0.6820 - val_loss: 5.1244 - val_acc: 0.6818\n",
      "Epoch 41/100\n",
      "60000/60000 [==============================] - 1s 23us/step - loss: 5.1453 - acc: 0.6805 - val_loss: 5.0821 - val_acc: 0.6847\n",
      "Epoch 42/100\n",
      "60000/60000 [==============================] - 1s 22us/step - loss: 5.0959 - acc: 0.6836 - val_loss: 5.2099 - val_acc: 0.6766\n",
      "Epoch 43/100\n",
      "60000/60000 [==============================] - 1s 22us/step - loss: 5.1288 - acc: 0.6816 - val_loss: 5.1190 - val_acc: 0.6821\n",
      "Epoch 44/100\n",
      "60000/60000 [==============================] - 1s 20us/step - loss: 5.1203 - acc: 0.6822 - val_loss: 5.0652 - val_acc: 0.6857\n",
      "Epoch 45/100\n",
      "60000/60000 [==============================] - 1s 20us/step - loss: 5.1197 - acc: 0.6820 - val_loss: 5.1315 - val_acc: 0.6815\n",
      "Epoch 46/100\n",
      "60000/60000 [==============================] - 1s 20us/step - loss: 5.0904 - acc: 0.6840 - val_loss: 5.0769 - val_acc: 0.6849\n",
      "Epoch 47/100\n",
      "60000/60000 [==============================] - 1s 19us/step - loss: 5.0946 - acc: 0.6838 - val_loss: 5.0663 - val_acc: 0.6856\n",
      "Epoch 48/100\n",
      "60000/60000 [==============================] - 1s 19us/step - loss: 5.0801 - acc: 0.6847 - val_loss: 5.0873 - val_acc: 0.6840\n",
      "Epoch 49/100\n",
      "60000/60000 [==============================] - 1s 19us/step - loss: 5.0889 - acc: 0.6841 - val_loss: 5.0732 - val_acc: 0.6849\n",
      "Epoch 50/100\n",
      "60000/60000 [==============================] - 1s 21us/step - loss: 4.9659 - acc: 0.6916 - val_loss: 3.8818 - val_acc: 0.7587\n",
      "Epoch 51/100\n",
      "60000/60000 [==============================] - 1s 24us/step - loss: 3.7340 - acc: 0.7678 - val_loss: 3.6972 - val_acc: 0.7700\n",
      "Epoch 52/100\n",
      "60000/60000 [==============================] - 1s 22us/step - loss: 3.6908 - acc: 0.7706 - val_loss: 3.6180 - val_acc: 0.7751\n",
      "Epoch 53/100\n",
      "60000/60000 [==============================] - 1s 22us/step - loss: 3.6231 - acc: 0.7748 - val_loss: 3.5982 - val_acc: 0.7759\n",
      "Epoch 54/100\n",
      "60000/60000 [==============================] - 1s 22us/step - loss: 3.5906 - acc: 0.7769 - val_loss: 3.5127 - val_acc: 0.7818\n",
      "Epoch 55/100\n",
      "60000/60000 [==============================] - 1s 21us/step - loss: 3.5791 - acc: 0.7776 - val_loss: 3.5611 - val_acc: 0.7788\n",
      "Epoch 56/100\n",
      "60000/60000 [==============================] - 1s 21us/step - loss: 3.5709 - acc: 0.7779 - val_loss: 3.5451 - val_acc: 0.7798\n",
      "Epoch 57/100\n",
      "60000/60000 [==============================] - 1s 24us/step - loss: 3.6072 - acc: 0.7760 - val_loss: 3.5921 - val_acc: 0.7769\n",
      "Epoch 58/100\n",
      "60000/60000 [==============================] - 2s 33us/step - loss: 3.6087 - acc: 0.7758 - val_loss: 3.5396 - val_acc: 0.7800\n",
      "Epoch 59/100\n",
      "60000/60000 [==============================] - 2s 27us/step - loss: 3.5507 - acc: 0.7795 - val_loss: 3.5388 - val_acc: 0.7801\n",
      "Epoch 60/100\n",
      "60000/60000 [==============================] - 1s 19us/step - loss: 3.5878 - acc: 0.7771 - val_loss: 3.5286 - val_acc: 0.7808\n",
      "Epoch 61/100\n",
      "60000/60000 [==============================] - 1s 22us/step - loss: 3.5866 - acc: 0.7772 - val_loss: 3.6591 - val_acc: 0.7728\n",
      "Epoch 62/100\n",
      "60000/60000 [==============================] - 1s 19us/step - loss: 3.6185 - acc: 0.7752 - val_loss: 3.5813 - val_acc: 0.7777\n",
      "Epoch 63/100\n",
      "60000/60000 [==============================] - 1s 22us/step - loss: 3.5710 - acc: 0.7782 - val_loss: 3.5639 - val_acc: 0.7787\n",
      "Epoch 64/100\n",
      "60000/60000 [==============================] - 1s 18us/step - loss: 3.5781 - acc: 0.7777 - val_loss: 3.5116 - val_acc: 0.7819\n",
      "Epoch 65/100\n",
      "60000/60000 [==============================] - 1s 21us/step - loss: 3.5285 - acc: 0.7810 - val_loss: 3.4963 - val_acc: 0.7826\n",
      "Epoch 66/100\n",
      "60000/60000 [==============================] - 1s 20us/step - loss: 3.5555 - acc: 0.7792 - val_loss: 3.5721 - val_acc: 0.7780\n",
      "Epoch 67/100\n",
      "60000/60000 [==============================] - 1s 20us/step - loss: 3.5496 - acc: 0.7796 - val_loss: 3.5842 - val_acc: 0.7772\n",
      "Epoch 68/100\n",
      "60000/60000 [==============================] - 2s 33us/step - loss: 3.5475 - acc: 0.7796 - val_loss: 3.5118 - val_acc: 0.7819\n",
      "Epoch 69/100\n",
      "60000/60000 [==============================] - 1s 19us/step - loss: 3.5575 - acc: 0.7792 - val_loss: 3.5426 - val_acc: 0.7798\n",
      "Epoch 70/100\n",
      "60000/60000 [==============================] - 1s 20us/step - loss: 3.6065 - acc: 0.7761 - val_loss: 3.5032 - val_acc: 0.7826\n",
      "Epoch 71/100\n",
      "60000/60000 [==============================] - 2s 29us/step - loss: 3.5414 - acc: 0.7800 - val_loss: 3.5397 - val_acc: 0.7802\n",
      "Epoch 72/100\n",
      "60000/60000 [==============================] - 1s 24us/step - loss: 3.5556 - acc: 0.7792 - val_loss: 3.5378 - val_acc: 0.7805\n",
      "Epoch 73/100\n",
      "60000/60000 [==============================] - 1s 22us/step - loss: 3.5394 - acc: 0.7802 - val_loss: 3.5217 - val_acc: 0.7813\n",
      "Epoch 74/100\n",
      "60000/60000 [==============================] - 1s 18us/step - loss: 3.5641 - acc: 0.7787 - val_loss: 3.5514 - val_acc: 0.7793\n",
      "Epoch 75/100\n",
      "60000/60000 [==============================] - 1s 18us/step - loss: 3.5688 - acc: 0.7783 - val_loss: 3.5446 - val_acc: 0.7800\n",
      "Epoch 76/100\n",
      "60000/60000 [==============================] - 1s 19us/step - loss: 3.5577 - acc: 0.7790 - val_loss: 3.5284 - val_acc: 0.7810\n",
      "Epoch 77/100\n",
      "60000/60000 [==============================] - 1s 18us/step - loss: 3.5696 - acc: 0.7783 - val_loss: 3.6862 - val_acc: 0.7711\n",
      "Epoch 78/100\n",
      "60000/60000 [==============================] - 1s 19us/step - loss: 3.5597 - acc: 0.7789 - val_loss: 3.5124 - val_acc: 0.7818\n",
      "Epoch 79/100\n",
      "60000/60000 [==============================] - 1s 18us/step - loss: 3.5411 - acc: 0.7801 - val_loss: 3.5836 - val_acc: 0.7775\n",
      "Epoch 80/100\n",
      "60000/60000 [==============================] - 1s 19us/step - loss: 3.5302 - acc: 0.7807 - val_loss: 3.5364 - val_acc: 0.7803\n",
      "Epoch 81/100\n",
      "60000/60000 [==============================] - 1s 18us/step - loss: 3.5378 - acc: 0.7804 - val_loss: 3.6231 - val_acc: 0.7750\n",
      "Epoch 82/100\n",
      "60000/60000 [==============================] - 1s 19us/step - loss: 3.5172 - acc: 0.7816 - val_loss: 3.5651 - val_acc: 0.7786\n",
      "Epoch 83/100\n",
      "60000/60000 [==============================] - 1s 21us/step - loss: 3.5423 - acc: 0.7801 - val_loss: 3.4910 - val_acc: 0.7832\n",
      "Epoch 84/100\n",
      "60000/60000 [==============================] - 1s 18us/step - loss: 3.5216 - acc: 0.7812 - val_loss: 3.4809 - val_acc: 0.7838\n",
      "Epoch 85/100\n",
      "60000/60000 [==============================] - 1s 18us/step - loss: 3.5158 - acc: 0.7816 - val_loss: 3.4947 - val_acc: 0.7831\n",
      "Epoch 86/100\n",
      "60000/60000 [==============================] - 1s 19us/step - loss: 3.5428 - acc: 0.7800 - val_loss: 3.5719 - val_acc: 0.7782\n",
      "Epoch 87/100\n",
      "60000/60000 [==============================] - 1s 18us/step - loss: 3.5256 - acc: 0.7811 - val_loss: 3.5117 - val_acc: 0.7821\n",
      "Epoch 88/100\n",
      "60000/60000 [==============================] - 2s 26us/step - loss: 3.5325 - acc: 0.7806 - val_loss: 3.5598 - val_acc: 0.7789\n",
      "Epoch 89/100\n",
      "60000/60000 [==============================] - 1s 22us/step - loss: 3.5191 - acc: 0.7814 - val_loss: 3.4855 - val_acc: 0.7836\n",
      "Epoch 90/100\n",
      "60000/60000 [==============================] - 1s 19us/step - loss: 3.5206 - acc: 0.7814 - val_loss: 3.5333 - val_acc: 0.7807\n",
      "Epoch 91/100\n",
      "60000/60000 [==============================] - 1s 18us/step - loss: 3.5142 - acc: 0.7818 - val_loss: 3.4905 - val_acc: 0.7834\n",
      "Epoch 92/100\n",
      "60000/60000 [==============================] - 1s 18us/step - loss: 3.5324 - acc: 0.7806 - val_loss: 3.5375 - val_acc: 0.7804\n",
      "Epoch 93/100\n",
      "60000/60000 [==============================] - 1s 20us/step - loss: 3.5163 - acc: 0.7817 - val_loss: 3.4683 - val_acc: 0.7846\n",
      "Epoch 94/100\n",
      "60000/60000 [==============================] - 1s 18us/step - loss: 3.5006 - acc: 0.7826 - val_loss: 3.5485 - val_acc: 0.7797\n",
      "Epoch 95/100\n",
      "60000/60000 [==============================] - 1s 18us/step - loss: 3.5213 - acc: 0.7813 - val_loss: 3.5181 - val_acc: 0.7814\n",
      "Epoch 96/100\n",
      "60000/60000 [==============================] - 1s 19us/step - loss: 3.5093 - acc: 0.7820 - val_loss: 3.4894 - val_acc: 0.7834\n",
      "Epoch 97/100\n",
      "60000/60000 [==============================] - 1s 18us/step - loss: 3.4853 - acc: 0.7836 - val_loss: 3.5203 - val_acc: 0.7814\n",
      "Epoch 98/100\n",
      "60000/60000 [==============================] - 1s 18us/step - loss: 3.5042 - acc: 0.7824 - val_loss: 3.5014 - val_acc: 0.7826\n",
      "Epoch 99/100\n",
      "60000/60000 [==============================] - 1s 18us/step - loss: 3.4849 - acc: 0.7836 - val_loss: 3.4675 - val_acc: 0.7848\n",
      "Epoch 100/100\n",
      "60000/60000 [==============================] - 1s 19us/step - loss: 3.4902 - acc: 0.7833 - val_loss: 3.5097 - val_acc: 0.7821\n"
     ]
    }
   ],
   "source": [
    "history_2_2 = model_2_2.fit(x_train_data, \n",
    "                            y_train_labels, \n",
    "                            epochs = epoch, \n",
    "                            batch_size = 1024, \n",
    "                            validation_data = (x_train_val, y_train_val))"
   ]
  },
  {
   "cell_type": "code",
   "execution_count": 83,
   "metadata": {},
   "outputs": [],
   "source": [
    "history_dict_2_2 = history_2_2.history\n",
    "loss_2_2 = history_dict_2_2['loss']\n",
    "val_loss_2_2 = history_dict_2_2['val_loss']\n",
    "acc_2_2 = history_dict_2_2['acc']\n",
    "val_acc_2_2 = history_dict_2_2['val_acc']\n",
    "\n",
    "epochs_2_2 = range(1, len(acc_2_2)+1)"
   ]
  },
  {
   "cell_type": "markdown",
   "metadata": {},
   "source": [
    "### 3.1.1 Plot the history data for comparison."
   ]
  },
  {
   "cell_type": "code",
   "execution_count": 84,
   "metadata": {},
   "outputs": [
    {
     "data": {
      "image/png": "[encoded data removed]",
      "text/plain": [
       "<Figure size 432x288 with 1 Axes>"
      ]
     },
     "metadata": {
      "needs_background": "light"
     },
     "output_type": "display_data"
    }
   ],
   "source": [
    "plt.plot(epochs_2_2, loss_2_2, 'r', label='Training loss')\n",
    "plt.plot(epochs_2_2, val_loss_2_2, 'b', label='Validation loss')\n",
    "plt.title('Training and validation loss')\n",
    "plt.xlabel('Epochs')\n",
    "plt.ylabel('Loss')\n",
    "plt.legend()\n",
    "plt.show()"
   ]
  },
  {
   "cell_type": "markdown",
   "metadata": {},
   "source": [
    "Accordingly to the graph the loss is not that grate compare to the first one layer network wtih 100 nodes. \n",
    "___"
   ]
  },
  {
   "cell_type": "code",
   "execution_count": 102,
   "metadata": {},
   "outputs": [
    {
     "data": {
      "image/png": "[encoded data removed]",
      "text/plain": [
       "<Figure size 432x288 with 1 Axes>"
      ]
     },
     "metadata": {
      "needs_background": "light"
     },
     "output_type": "display_data"
    }
   ],
   "source": [
    "plt.plot(epochs_2_2, acc_2_2, 'r', label='Training loss')\n",
    "plt.plot(epochs_2_2, val_acc_2_2, 'b', label='Validation loss')\n",
    "plt.title('Training and validation accuracy')\n",
    "plt.xlabel('Epochs')\n",
    "plt.ylabel('Accurancy')\n",
    "plt.legend()\n",
    "plt.show()"
   ]
  },
  {
   "cell_type": "markdown",
   "metadata": {},
   "source": [
    "Accuracy is far behind compare to the first two single layer networks.\n",
    "___"
   ]
  },
  {
   "cell_type": "code",
   "execution_count": 86,
   "metadata": {},
   "outputs": [],
   "source": [
    "y_pred_2_2 = model_2_2.predict(x_test_data.reshape(10000, 28*28))\n",
    "y_pred_test_2_2 = np.argmax(y_pred_2_2, axis=1)"
   ]
  },
  {
   "cell_type": "code",
   "execution_count": 87,
   "metadata": {
    "scrolled": false
   },
   "outputs": [
    {
     "name": "stdout",
     "output_type": "stream",
     "text": [
      "[[ 970    1    3    0    0    1    4    0    1    0]\n",
      " [   0 1124    3    1    0    2    4    0    1    0]\n",
      " [   4    3 1005    8    0    1    7    0    4    0]\n",
      " [   0    0    1  998    0    7    0    0    4    0]\n",
      " [   2    0    1    1  964    0   13    0    1    0]\n",
      " [   6    0    0   12    0  859   14    0    1    0]\n",
      " [   7    1    0    0    1    2  947    0    0    0]\n",
      " [ 126   53  116  575  104   33    0    0   21    0]\n",
      " [  10    1    2   22    6   12    9    0  912    0]\n",
      " [  24   13    2  114  782   45    4    0   25    0]]\n",
      "              precision    recall  f1-score   support\n",
      "\n",
      "           0       0.84      0.99      0.91       980\n",
      "           1       0.94      0.99      0.96      1135\n",
      "           2       0.89      0.97      0.93      1032\n",
      "           3       0.58      0.99      0.73      1010\n",
      "           4       0.52      0.98      0.68       982\n",
      "           5       0.89      0.96      0.93       892\n",
      "           6       0.95      0.99      0.97       958\n",
      "           7       0.00      0.00      0.00      1028\n",
      "           8       0.94      0.94      0.94       974\n",
      "           9       0.00      0.00      0.00      1009\n",
      "\n",
      "    accuracy                           0.78     10000\n",
      "   macro avg       0.65      0.78      0.70     10000\n",
      "weighted avg       0.65      0.78      0.70     10000\n",
      "\n"
     ]
    }
   ],
   "source": [
    "print(confusion_matrix(y_test_labels, y_pred_test_2_2))\n",
    "print(classification_report(y_test_labels, y_pred_test_2_2))"
   ]
  },
  {
   "cell_type": "markdown",
   "metadata": {},
   "source": [
    "Confusion matrix shows that current model didn't classify 2 numbers at all. 7 mostly was confused with 3, and 9 almost all was confused with 4.\n",
    "\n",
    "Accuracy is low on 4 and 3 because nonclassified numbers affected accuracy of 4 and 3."
   ]
  },
  {
   "cell_type": "markdown",
   "metadata": {},
   "source": [
    "### 3.2 Two hidden layers with 200 and 100 nodes "
   ]
  },
  {
   "cell_type": "markdown",
   "metadata": {},
   "source": [
    "#### Assembling the model\n",
    "Creating model with two hidden layers one is 200 and second one is 100 with the same parameters as before. Compiling and train the model the same way as well. I tried a smaller batch size to have a better accuracy."
   ]
  },
  {
   "cell_type": "code",
   "execution_count": 69,
   "metadata": {},
   "outputs": [],
   "source": [
    "model_2_1 = models.Sequential()\n",
    "model_2_1.add(layers.Dense(200, activation='relu', input_shape=(28*28,)))\n",
    "model_2_1.add(layers.Dense(100, activation='relu'))\n",
    "model_2_1.add(layers.Dense(10, activation='softmax'))"
   ]
  },
  {
   "cell_type": "markdown",
   "metadata": {},
   "source": [
    "#### Compiling the model"
   ]
  },
  {
   "cell_type": "code",
   "execution_count": 70,
   "metadata": {},
   "outputs": [],
   "source": [
    "model_2_1.compile(optimizer='rmsprop', loss='categorical_crossentropy', metrics=['acc'])"
   ]
  },
  {
   "cell_type": "markdown",
   "metadata": {},
   "source": [
    "#### Training the model"
   ]
  },
  {
   "cell_type": "code",
   "execution_count": 71,
   "metadata": {},
   "outputs": [
    {
     "name": "stdout",
     "output_type": "stream",
     "text": [
      "Train on 60000 samples, validate on 12000 samples\n",
      "Epoch 1/100\n",
      "60000/60000 [==============================] - 1s 22us/step - loss: 4.0177 - acc: 0.7388 - val_loss: 1.8467 - val_acc: 0.8748\n",
      "Epoch 2/100\n",
      "60000/60000 [==============================] - 1s 18us/step - loss: 1.4346 - acc: 0.9029 - val_loss: 1.1852 - val_acc: 0.9179\n",
      "Epoch 3/100\n",
      "60000/60000 [==============================] - 1s 18us/step - loss: 1.0813 - acc: 0.9270 - val_loss: 1.5493 - val_acc: 0.8965\n",
      "Epoch 4/100\n",
      "60000/60000 [==============================] - 1s 18us/step - loss: 0.9815 - acc: 0.9339 - val_loss: 0.9741 - val_acc: 0.9343\n",
      "Epoch 5/100\n",
      "60000/60000 [==============================] - 1s 18us/step - loss: 0.8792 - acc: 0.9411 - val_loss: 1.0646 - val_acc: 0.9289\n",
      "Epoch 6/100\n",
      "60000/60000 [==============================] - 1s 18us/step - loss: 0.8071 - acc: 0.9458 - val_loss: 0.7269 - val_acc: 0.9512\n",
      "Epoch 7/100\n",
      "60000/60000 [==============================] - 1s 18us/step - loss: 0.7504 - acc: 0.9496 - val_loss: 0.6705 - val_acc: 0.9553\n",
      "Epoch 8/100\n",
      "60000/60000 [==============================] - 1s 18us/step - loss: 0.7265 - acc: 0.9512 - val_loss: 0.8911 - val_acc: 0.9406\n",
      "Epoch 9/100\n",
      "60000/60000 [==============================] - 1s 18us/step - loss: 0.6655 - acc: 0.9553 - val_loss: 0.7437 - val_acc: 0.9507\n",
      "Epoch 10/100\n",
      "60000/60000 [==============================] - 1s 18us/step - loss: 0.6583 - acc: 0.9563 - val_loss: 0.9989 - val_acc: 0.9340\n",
      "Epoch 11/100\n",
      "60000/60000 [==============================] - 1s 19us/step - loss: 0.6444 - acc: 0.9573 - val_loss: 0.5984 - val_acc: 0.9612\n",
      "Epoch 12/100\n",
      "60000/60000 [==============================] - 1s 18us/step - loss: 0.6218 - acc: 0.9591 - val_loss: 0.6337 - val_acc: 0.9582\n",
      "Epoch 13/100\n",
      "60000/60000 [==============================] - 1s 18us/step - loss: 0.6439 - acc: 0.9579 - val_loss: 0.6356 - val_acc: 0.9582\n",
      "Epoch 14/100\n",
      "60000/60000 [==============================] - 1s 18us/step - loss: 0.5688 - acc: 0.9623 - val_loss: 0.5834 - val_acc: 0.9613\n",
      "Epoch 15/100\n",
      "60000/60000 [==============================] - 1s 18us/step - loss: 0.5924 - acc: 0.9613 - val_loss: 0.4890 - val_acc: 0.9680\n",
      "Epoch 16/100\n",
      "60000/60000 [==============================] - 1s 18us/step - loss: 0.5403 - acc: 0.9645 - val_loss: 0.5761 - val_acc: 0.9621\n",
      "Epoch 17/100\n",
      "60000/60000 [==============================] - 1s 18us/step - loss: 0.5643 - acc: 0.9629 - val_loss: 0.5700 - val_acc: 0.9627\n",
      "Epoch 18/100\n",
      "60000/60000 [==============================] - 1s 18us/step - loss: 0.5327 - acc: 0.9649 - val_loss: 0.5251 - val_acc: 0.9661\n",
      "Epoch 19/100\n",
      "60000/60000 [==============================] - 1s 18us/step - loss: 0.5170 - acc: 0.9661 - val_loss: 0.5046 - val_acc: 0.9670\n",
      "Epoch 20/100\n",
      "60000/60000 [==============================] - 1s 18us/step - loss: 0.5129 - acc: 0.9663 - val_loss: 0.4903 - val_acc: 0.9677\n",
      "Epoch 21/100\n",
      "60000/60000 [==============================] - 1s 18us/step - loss: 0.5034 - acc: 0.9673 - val_loss: 0.4134 - val_acc: 0.9731\n",
      "Epoch 22/100\n",
      "60000/60000 [==============================] - 1s 18us/step - loss: 0.4804 - acc: 0.9684 - val_loss: 0.4755 - val_acc: 0.9695\n",
      "Epoch 23/100\n",
      "60000/60000 [==============================] - 1s 18us/step - loss: 0.4757 - acc: 0.9690 - val_loss: 0.4308 - val_acc: 0.9718\n",
      "Epoch 24/100\n",
      "60000/60000 [==============================] - 1s 18us/step - loss: 0.4955 - acc: 0.9676 - val_loss: 0.3821 - val_acc: 0.9756\n",
      "Epoch 25/100\n",
      "60000/60000 [==============================] - 1s 18us/step - loss: 0.4494 - acc: 0.9709 - val_loss: 0.4032 - val_acc: 0.9734\n",
      "Epoch 26/100\n",
      "60000/60000 [==============================] - 1s 18us/step - loss: 0.4365 - acc: 0.9716 - val_loss: 0.4107 - val_acc: 0.9734\n",
      "Epoch 27/100\n",
      "60000/60000 [==============================] - 1s 19us/step - loss: 0.4381 - acc: 0.9714 - val_loss: 0.6909 - val_acc: 0.9550\n",
      "Epoch 28/100\n",
      "60000/60000 [==============================] - 1s 18us/step - loss: 0.4612 - acc: 0.9701 - val_loss: 0.4386 - val_acc: 0.9718\n",
      "Epoch 29/100\n",
      "60000/60000 [==============================] - 1s 18us/step - loss: 0.4289 - acc: 0.9722 - val_loss: 0.4381 - val_acc: 0.9721\n",
      "Epoch 30/100\n",
      "60000/60000 [==============================] - 1s 18us/step - loss: 0.4491 - acc: 0.9711 - val_loss: 0.4940 - val_acc: 0.9678\n",
      "Epoch 31/100\n",
      "60000/60000 [==============================] - 1s 18us/step - loss: 0.4250 - acc: 0.9724 - val_loss: 0.3658 - val_acc: 0.9757\n",
      "Epoch 32/100\n",
      "60000/60000 [==============================] - 1s 18us/step - loss: 0.4445 - acc: 0.9712 - val_loss: 0.3627 - val_acc: 0.9768\n",
      "Epoch 33/100\n",
      "60000/60000 [==============================] - 1s 18us/step - loss: 0.4144 - acc: 0.9731 - val_loss: 0.4135 - val_acc: 0.9734\n",
      "Epoch 34/100\n",
      "60000/60000 [==============================] - 1s 18us/step - loss: 0.4514 - acc: 0.9708 - val_loss: 0.3194 - val_acc: 0.9792\n",
      "Epoch 35/100\n",
      "60000/60000 [==============================] - 1s 18us/step - loss: 0.4046 - acc: 0.9737 - val_loss: 0.5341 - val_acc: 0.9651\n",
      "Epoch 36/100\n",
      "60000/60000 [==============================] - 1s 18us/step - loss: 0.4109 - acc: 0.9734 - val_loss: 0.3732 - val_acc: 0.9758\n",
      "Epoch 37/100\n",
      "60000/60000 [==============================] - 1s 18us/step - loss: 0.3937 - acc: 0.9746 - val_loss: 0.3944 - val_acc: 0.9748\n",
      "Epoch 38/100\n",
      "60000/60000 [==============================] - 1s 18us/step - loss: 0.4255 - acc: 0.9726 - val_loss: 0.4721 - val_acc: 0.9693\n",
      "Epoch 39/100\n",
      "60000/60000 [==============================] - 1s 18us/step - loss: 0.3773 - acc: 0.9756 - val_loss: 0.3305 - val_acc: 0.9788\n",
      "Epoch 40/100\n",
      "60000/60000 [==============================] - 1s 18us/step - loss: 0.4075 - acc: 0.9737 - val_loss: 0.3513 - val_acc: 0.9776\n",
      "Epoch 41/100\n",
      "60000/60000 [==============================] - 1s 18us/step - loss: 0.4038 - acc: 0.9739 - val_loss: 0.3489 - val_acc: 0.9777\n",
      "Epoch 42/100\n",
      "60000/60000 [==============================] - 1s 18us/step - loss: 0.4030 - acc: 0.9740 - val_loss: 0.3833 - val_acc: 0.9753\n",
      "Epoch 43/100\n",
      "60000/60000 [==============================] - 1s 18us/step - loss: 0.3838 - acc: 0.9753 - val_loss: 0.3940 - val_acc: 0.9749\n",
      "Epoch 44/100\n",
      "60000/60000 [==============================] - 1s 18us/step - loss: 0.3955 - acc: 0.9747 - val_loss: 0.3920 - val_acc: 0.9744\n",
      "Epoch 45/100\n",
      "60000/60000 [==============================] - 1s 18us/step - loss: 0.4236 - acc: 0.9727 - val_loss: 0.3988 - val_acc: 0.9742\n",
      "Epoch 46/100\n",
      "60000/60000 [==============================] - 1s 18us/step - loss: 0.4002 - acc: 0.9742 - val_loss: 0.4567 - val_acc: 0.9709\n",
      "Epoch 47/100\n",
      "60000/60000 [==============================] - 1s 18us/step - loss: 0.3851 - acc: 0.9751 - val_loss: 0.3387 - val_acc: 0.9780\n",
      "Epoch 48/100\n",
      "60000/60000 [==============================] - 1s 18us/step - loss: 0.3696 - acc: 0.9762 - val_loss: 0.5834 - val_acc: 0.9624\n",
      "Epoch 49/100\n",
      "60000/60000 [==============================] - 1s 18us/step - loss: 0.3832 - acc: 0.9755 - val_loss: 0.3799 - val_acc: 0.9752\n",
      "Epoch 50/100\n",
      "60000/60000 [==============================] - 1s 18us/step - loss: 0.3608 - acc: 0.9768 - val_loss: 0.3718 - val_acc: 0.9761\n",
      "Epoch 51/100\n",
      "60000/60000 [==============================] - 1s 18us/step - loss: 0.4022 - acc: 0.9744 - val_loss: 0.4517 - val_acc: 0.9715\n",
      "Epoch 52/100\n",
      "60000/60000 [==============================] - 1s 18us/step - loss: 0.3763 - acc: 0.9758 - val_loss: 0.3136 - val_acc: 0.9799\n",
      "Epoch 53/100\n",
      "60000/60000 [==============================] - 1s 18us/step - loss: 0.3952 - acc: 0.9748 - val_loss: 0.3511 - val_acc: 0.9772\n",
      "Epoch 54/100\n",
      "60000/60000 [==============================] - 1s 18us/step - loss: 0.3965 - acc: 0.9747 - val_loss: 0.4200 - val_acc: 0.9735\n",
      "Epoch 55/100\n",
      "60000/60000 [==============================] - 1s 18us/step - loss: 0.3686 - acc: 0.9765 - val_loss: 0.3299 - val_acc: 0.9789\n",
      "Epoch 56/100\n",
      "60000/60000 [==============================] - 1s 18us/step - loss: 0.4053 - acc: 0.9742 - val_loss: 0.3483 - val_acc: 0.9779\n",
      "Epoch 57/100\n",
      "60000/60000 [==============================] - 1s 18us/step - loss: 0.3842 - acc: 0.9754 - val_loss: 0.3652 - val_acc: 0.9768\n",
      "Epoch 58/100\n",
      "60000/60000 [==============================] - 1s 18us/step - loss: 0.3618 - acc: 0.9767 - val_loss: 0.3397 - val_acc: 0.9784\n",
      "Epoch 59/100\n",
      "60000/60000 [==============================] - 1s 18us/step - loss: 0.4057 - acc: 0.9740 - val_loss: 0.3811 - val_acc: 0.9756\n",
      "Epoch 60/100\n",
      "60000/60000 [==============================] - 1s 18us/step - loss: 0.3655 - acc: 0.9766 - val_loss: 0.3652 - val_acc: 0.9764\n",
      "Epoch 61/100\n",
      "60000/60000 [==============================] - 1s 18us/step - loss: 0.3513 - acc: 0.9775 - val_loss: 0.3052 - val_acc: 0.9807\n",
      "Epoch 62/100\n",
      "60000/60000 [==============================] - 1s 18us/step - loss: 0.3551 - acc: 0.9772 - val_loss: 0.4962 - val_acc: 0.9681\n",
      "Epoch 63/100\n",
      "60000/60000 [==============================] - 1s 18us/step - loss: 0.3698 - acc: 0.9762 - val_loss: 0.3348 - val_acc: 0.9787\n",
      "Epoch 64/100\n",
      "60000/60000 [==============================] - 1s 18us/step - loss: 0.3392 - acc: 0.9783 - val_loss: 0.3645 - val_acc: 0.9768\n",
      "Epoch 65/100\n",
      "60000/60000 [==============================] - 1s 18us/step - loss: 0.3611 - acc: 0.9769 - val_loss: 0.3242 - val_acc: 0.9792\n",
      "Epoch 66/100\n",
      "60000/60000 [==============================] - 1s 17us/step - loss: 0.3350 - acc: 0.9786 - val_loss: 0.3423 - val_acc: 0.9779\n",
      "Epoch 67/100\n",
      "60000/60000 [==============================] - 1s 18us/step - loss: 0.3515 - acc: 0.9775 - val_loss: 0.4305 - val_acc: 0.9725\n",
      "Epoch 68/100\n",
      "60000/60000 [==============================] - 1s 18us/step - loss: 0.3827 - acc: 0.9755 - val_loss: 0.4095 - val_acc: 0.9740\n",
      "Epoch 69/100\n",
      "60000/60000 [==============================] - 1s 18us/step - loss: 0.3570 - acc: 0.9772 - val_loss: 0.4178 - val_acc: 0.9732\n",
      "Epoch 70/100\n",
      "60000/60000 [==============================] - 1s 18us/step - loss: 0.3686 - acc: 0.9766 - val_loss: 0.3263 - val_acc: 0.9789\n",
      "Epoch 71/100\n",
      "60000/60000 [==============================] - 1s 18us/step - loss: 0.3163 - acc: 0.9798 - val_loss: 0.3285 - val_acc: 0.9791\n",
      "Epoch 72/100\n",
      "60000/60000 [==============================] - 1s 18us/step - loss: 0.3282 - acc: 0.9791 - val_loss: 0.3577 - val_acc: 0.9769\n",
      "Epoch 73/100\n",
      "60000/60000 [==============================] - 1s 18us/step - loss: 0.3205 - acc: 0.9796 - val_loss: 0.2914 - val_acc: 0.9814\n",
      "Epoch 74/100\n",
      "60000/60000 [==============================] - 1s 18us/step - loss: 0.3344 - acc: 0.9787 - val_loss: 0.3110 - val_acc: 0.9802\n",
      "Epoch 75/100\n",
      "60000/60000 [==============================] - 1s 18us/step - loss: 0.3161 - acc: 0.9797 - val_loss: 0.3502 - val_acc: 0.9777\n",
      "Epoch 76/100\n",
      "60000/60000 [==============================] - 1s 18us/step - loss: 0.3230 - acc: 0.9793 - val_loss: 0.3559 - val_acc: 0.9774\n",
      "Epoch 77/100\n",
      "60000/60000 [==============================] - 1s 18us/step - loss: 0.3062 - acc: 0.9804 - val_loss: 0.3045 - val_acc: 0.9805\n",
      "Epoch 78/100\n",
      "60000/60000 [==============================] - 1s 18us/step - loss: 0.3130 - acc: 0.9800 - val_loss: 0.3197 - val_acc: 0.9798\n",
      "Epoch 79/100\n",
      "60000/60000 [==============================] - 1s 18us/step - loss: 0.2920 - acc: 0.9815 - val_loss: 0.3117 - val_acc: 0.9804\n",
      "Epoch 80/100\n",
      "60000/60000 [==============================] - 1s 18us/step - loss: 0.3409 - acc: 0.9782 - val_loss: 0.3108 - val_acc: 0.9802\n",
      "Epoch 81/100\n",
      "60000/60000 [==============================] - 1s 18us/step - loss: 0.2983 - acc: 0.9810 - val_loss: 0.2947 - val_acc: 0.9814\n",
      "Epoch 82/100\n",
      "60000/60000 [==============================] - 1s 18us/step - loss: 0.3103 - acc: 0.9803 - val_loss: 0.3129 - val_acc: 0.9801\n",
      "Epoch 83/100\n",
      "60000/60000 [==============================] - 1s 17us/step - loss: 0.3083 - acc: 0.9803 - val_loss: 0.3081 - val_acc: 0.9805\n",
      "Epoch 84/100\n",
      "60000/60000 [==============================] - 1s 18us/step - loss: 0.3142 - acc: 0.9800 - val_loss: 0.3131 - val_acc: 0.9802\n",
      "Epoch 85/100\n",
      "60000/60000 [==============================] - 1s 18us/step - loss: 0.3112 - acc: 0.9801 - val_loss: 0.2965 - val_acc: 0.9808\n",
      "Epoch 86/100\n",
      "60000/60000 [==============================] - 1s 18us/step - loss: 0.3099 - acc: 0.9803 - val_loss: 0.2711 - val_acc: 0.9829\n",
      "Epoch 87/100\n",
      "60000/60000 [==============================] - 1s 18us/step - loss: 0.3102 - acc: 0.9802 - val_loss: 0.3207 - val_acc: 0.9797\n",
      "Epoch 88/100\n",
      "60000/60000 [==============================] - 1s 18us/step - loss: 0.3020 - acc: 0.9808 - val_loss: 0.3394 - val_acc: 0.9782\n",
      "Epoch 89/100\n",
      "60000/60000 [==============================] - 1s 18us/step - loss: 0.3204 - acc: 0.9796 - val_loss: 0.2720 - val_acc: 0.9828\n",
      "Epoch 90/100\n",
      "60000/60000 [==============================] - 1s 18us/step - loss: 0.3196 - acc: 0.9797 - val_loss: 0.3874 - val_acc: 0.9754\n",
      "Epoch 91/100\n",
      "60000/60000 [==============================] - 1s 18us/step - loss: 0.3150 - acc: 0.9799 - val_loss: 0.2843 - val_acc: 0.9822\n",
      "Epoch 92/100\n",
      "60000/60000 [==============================] - 1s 18us/step - loss: 0.2969 - acc: 0.9810 - val_loss: 0.2961 - val_acc: 0.9813\n",
      "Epoch 93/100\n",
      "60000/60000 [==============================] - 1s 18us/step - loss: 0.2970 - acc: 0.9811 - val_loss: 0.2861 - val_acc: 0.9816\n",
      "Epoch 94/100\n",
      "60000/60000 [==============================] - 1s 17us/step - loss: 0.3062 - acc: 0.9805 - val_loss: 0.2756 - val_acc: 0.9823\n",
      "Epoch 95/100\n",
      "60000/60000 [==============================] - 1s 18us/step - loss: 0.3034 - acc: 0.9807 - val_loss: 0.3785 - val_acc: 0.9758\n",
      "Epoch 96/100\n",
      "60000/60000 [==============================] - 1s 18us/step - loss: 0.2987 - acc: 0.9811 - val_loss: 0.3227 - val_acc: 0.9793\n",
      "Epoch 97/100\n",
      "60000/60000 [==============================] - 1s 18us/step - loss: 0.2987 - acc: 0.9809 - val_loss: 0.3041 - val_acc: 0.9808\n",
      "Epoch 98/100\n",
      "60000/60000 [==============================] - 1s 18us/step - loss: 0.2936 - acc: 0.9813 - val_loss: 0.2716 - val_acc: 0.9827\n",
      "Epoch 99/100\n",
      "60000/60000 [==============================] - 1s 18us/step - loss: 0.2987 - acc: 0.9809 - val_loss: 0.3385 - val_acc: 0.9788\n",
      "Epoch 100/100\n",
      "60000/60000 [==============================] - 1s 18us/step - loss: 0.2926 - acc: 0.9813 - val_loss: 0.3186 - val_acc: 0.9800\n"
     ]
    }
   ],
   "source": [
    "history_2_1 = model_2_1.fit(x_train_data, \n",
    "                            y_train_labels, \n",
    "                            epochs = epoch, \n",
    "                            batch_size = 512, \n",
    "                            validation_data = (x_train_val, y_train_val))"
   ]
  },
  {
   "cell_type": "code",
   "execution_count": 78,
   "metadata": {},
   "outputs": [],
   "source": [
    "history_dict_2_1 = history_2_1.history\n",
    "loss_2_1 = history_dict_2_1['loss']\n",
    "val_loss_2_1 = history_dict_2_1['val_loss']\n",
    "acc_2_1 = history_dict_2_1['acc']\n",
    "val_acc_2_1 = history_dict_2_1['val_acc']\n",
    "\n",
    "epochs_2_1 = range(1, len(acc_2_1)+1)"
   ]
  },
  {
   "cell_type": "markdown",
   "metadata": {},
   "source": [
    "### 3.2.1 Plot the history data for comparison."
   ]
  },
  {
   "cell_type": "code",
   "execution_count": 79,
   "metadata": {
    "scrolled": true
   },
   "outputs": [
    {
     "data": {
      "image/png": "[encoded data removed]",
      "text/plain": [
       "<Figure size 432x288 with 1 Axes>"
      ]
     },
     "metadata": {
      "needs_background": "light"
     },
     "output_type": "display_data"
    }
   ],
   "source": [
    "plt.plot(epochs_2_1, loss_2_1, 'r', label='Training loss')\n",
    "plt.plot(epochs_2_1, val_loss_2_1, 'b', label='Validation loss')\n",
    "plt.title('Training and validation loss')\n",
    "plt.xlabel('Epochs')\n",
    "plt.ylabel('Loss')\n",
    "plt.legend()\n",
    "plt.show()"
   ]
  },
  {
   "cell_type": "markdown",
   "metadata": {},
   "source": [
    "Training and validation loss are pretty much the same with first one layer model.\n",
    "___"
   ]
  },
  {
   "cell_type": "code",
   "execution_count": 103,
   "metadata": {},
   "outputs": [
    {
     "data": {
      "image/png": "[encoded data removed]",
      "text/plain": [
       "<Figure size 432x288 with 1 Axes>"
      ]
     },
     "metadata": {
      "needs_background": "light"
     },
     "output_type": "display_data"
    }
   ],
   "source": [
    "plt.plot(epochs_2_1, acc_2_1, 'r', label='Training loss')\n",
    "plt.plot(epochs_2_1, val_acc_2_1, 'b', label='Validation loss')\n",
    "plt.title('Training and validation accuracy')\n",
    "plt.xlabel('Epochs')\n",
    "plt.ylabel('Accurancy')\n",
    "plt.legend()\n",
    "plt.show()"
   ]
  },
  {
   "cell_type": "markdown",
   "metadata": {},
   "source": [
    "Accuracy is close to a 100% for traning and validatioin data.\n",
    "___"
   ]
  },
  {
   "cell_type": "code",
   "execution_count": 81,
   "metadata": {
    "scrolled": true
   },
   "outputs": [],
   "source": [
    "y_pred_2_1 = model_2_1.predict(x_test_data.reshape(10000, 28*28))\n",
    "y_pred_test_2_1 = np.argmax(y_pred_2_1, axis=1)"
   ]
  },
  {
   "cell_type": "code",
   "execution_count": 82,
   "metadata": {
    "scrolled": false
   },
   "outputs": [
    {
     "name": "stdout",
     "output_type": "stream",
     "text": [
      "[[ 959    0    0    0    2    4    5    1    4    5]\n",
      " [   0 1121    3    1    0    1    1    1    7    0]\n",
      " [   4    1  981   17    5    1    1    5   17    0]\n",
      " [   1    0    2  991    0    2    0    3    9    2]\n",
      " [   0    1    4    0  953    0    3    1    1   19]\n",
      " [   2    0    0   31    4  825    8    1   10   11]\n",
      " [   1    1    1    1    7    4  937    0    6    0]\n",
      " [   1    4    9    5    1    0    0  998    1    9]\n",
      " [   0    2    1    4    5    0    2    3  952    5]\n",
      " [   1    2    0    8   10    1    1    6    5  975]]\n",
      "              precision    recall  f1-score   support\n",
      "\n",
      "           0       0.99      0.98      0.98       980\n",
      "           1       0.99      0.99      0.99      1135\n",
      "           2       0.98      0.95      0.97      1032\n",
      "           3       0.94      0.98      0.96      1010\n",
      "           4       0.97      0.97      0.97       982\n",
      "           5       0.98      0.92      0.95       892\n",
      "           6       0.98      0.98      0.98       958\n",
      "           7       0.98      0.97      0.98      1028\n",
      "           8       0.94      0.98      0.96       974\n",
      "           9       0.95      0.97      0.96      1009\n",
      "\n",
      "    accuracy                           0.97     10000\n",
      "   macro avg       0.97      0.97      0.97     10000\n",
      "weighted avg       0.97      0.97      0.97     10000\n",
      "\n"
     ]
    }
   ],
   "source": [
    "print(confusion_matrix(y_test_labels, y_pred_test_2_1))\n",
    "print(classification_report(y_test_labels, y_pred_test_2_1))"
   ]
  },
  {
   "cell_type": "markdown",
   "metadata": {},
   "source": [
    "Only a few numbers were confused. 5 was confused by 3 and and 4 was confused with 9.\n",
    "___"
   ]
  },
  {
   "cell_type": "markdown",
   "metadata": {},
   "source": [
    "### 4. Conclusion"
   ]
  },
  {
   "cell_type": "markdown",
   "metadata": {},
   "source": [
    "#### Model one hidden layer with 100 nodes\n",
    "This model performed well with smaller batch size, but several time it has not classified one of the digit, but increasing the batch helped it to learn everytime which doesn't make sense based on what I read, but it worked1.\n",
    "#### Model one hidden layer with 400 nodes\n",
    "Perfomance of this model wasn't grate at all. It didn't categorize complete set and only smaller batch size increased accurancy significantly.\n",
    "#### Model two hidden layers with 200 and 200 nodes\n",
    "200 to 200 layers performed worse than one layer 400 nodes. Probably, because it doesn't narrow down combinations and might connect nodes directy to second layer.\n",
    "#### Model two hidden layers with 200 and 100 nodes\n",
    "This model accuracy is overall 97% as well as the first one layer with 100 nodes model. It converges more smoothly than the first model and faster. Probably it happens because it has two layers that allows the model to learn faster."
   ]
  },
  {
   "cell_type": "markdown",
   "metadata": {},
   "source": [
    "Batch size does change accuracy for the model but it doesn't help out if model itself is not good enough it might require too small batch size and too many epochs that it not reasonable for such a small problem. Model performs better on this data set with smaller hidden layers and when layers have different amounf of nodes."
   ]
  },
  {
   "cell_type": "markdown",
   "metadata": {},
   "source": [
    "### 4.1 Questions"
   ]
  },
  {
   "cell_type": "markdown",
   "metadata": {},
   "source": [
    "#### 1. Which model gives the best accuracy?  Which the best overall F1 score?\n",
    "The first with 100 nodes and last with 200 to 100 nodes gives the best accuracy. This is the same for F1 score.\n",
    "\n",
    "#### 2. Which model gives the worst accuracy?  Which the worst overall F1 score?\n",
    "The worst accuracy is 78% performed by two hidden layer models with the same amount of nodes for each hidden layer. Also, this model has the worst overall F1 score.\n",
    "\n",
    "#### 3. What is the shape of the training set?  How many nodes are in the input layer of the network?\n",
    "Shape is (60000, 28, 28). Input shape is 28px*28px = 784 nodes.\n",
    "\n",
    "#### 4. Why do you think the best/worst networks are that way?\n",
    "I think, it all depends on the size of the data and the training proccess based on loss function. Hidden layers affect the model, probably, size have to be less than input size and the same size of the hidden layers doesn't improve the model at all. \n",
    "#### 5. Experiment and try to create a better performing network.  Explain what you tried and document the results.\n",
    "All models were trained over 100 epochs.\n",
    "\n",
    "a. I've tried different number of layers, from 1 to 5. I used first 3 layer network with 400, 300, 200, layers. It performed horrible. \n",
    "\n",
    "b. I also tried with 2 layers 50, 30 and smaller batch size = 256, that wasn't great as well. \n",
    "\n",
    "c. The one with 3 layers 50,30,25 and batch size of 512 performed as good as the best one from the assignment and gave 97% accuracy. \n",
    "\n",
    "d. 3 layers 50,30,20 and batch size of 64 gave also 97% accuracy.\n",
    "\n",
    "e. 3 layers 20,15,10 and batch size of 64 gave less accurate results 91% it started falling down after 50 epochs.\n",
    "\n",
    "f. 4 layers 60,40,30,20 and batch size 512 gave 97% accuracy.\n",
    "\n",
    "g. 4 layers 60,40,30,20 and batch size 256 gave 97% accuracy, only 21 was missclasified as 9.\n",
    "\n",
    "h. 5 layers 80,60,40,25,15,10 and batch size 1024 performed at 97% accuracy\n",
    "\n",
    "i. 5 layers 80,60,40,25,15,10 and batch size 512 performed at 97% accuracy\n",
    "\n",
    "j. 1 layer with 10 nodes and batch size 512 performed at 91% accuracy\n",
    "\n",
    "k. 2 layer with 20,40 and batch size 512 performed at 96%\n",
    "\n",
    "Overall models could perform on train and train-validation data almost at 100%(99.7%), but on the test data it falls to 97% at max the way I adjusted it"
   ]
  },
  {
   "cell_type": "code",
   "execution_count": 185,
   "metadata": {},
   "outputs": [],
   "source": [
    "model_5 = models.Sequential()\n",
    "model_5.add(layers.Dense(20, activation='relu', input_shape=(28*28,)))\n",
    "model_5.add(layers.Dense(40, activation='relu'))\n",
    "model_5.add(layers.Dense(10, activation='softmax'))"
   ]
  },
  {
   "cell_type": "code",
   "execution_count": 186,
   "metadata": {},
   "outputs": [],
   "source": [
    "model_5.compile(optimizer='rmsprop', loss='categorical_crossentropy', metrics=['acc'])"
   ]
  },
  {
   "cell_type": "code",
   "execution_count": 187,
   "metadata": {
    "scrolled": true
   },
   "outputs": [
    {
     "name": "stdout",
     "output_type": "stream",
     "text": [
      "Train on 60000 samples, validate on 12000 samples\n",
      "Epoch 1/100\n",
      "60000/60000 [==============================] - 1s 21us/step - loss: 5.1987 - acc: 0.6322 - val_loss: 2.2574 - val_acc: 0.8150\n",
      "Epoch 2/100\n",
      "60000/60000 [==============================] - 1s 10us/step - loss: 1.4663 - acc: 0.8743 - val_loss: 1.2252 - val_acc: 0.8886\n",
      "Epoch 3/100\n",
      "60000/60000 [==============================] - 1s 10us/step - loss: 1.0647 - acc: 0.9055 - val_loss: 0.9240 - val_acc: 0.9192\n",
      "Epoch 4/100\n",
      "60000/60000 [==============================] - 1s 10us/step - loss: 0.9283 - acc: 0.9177 - val_loss: 1.6766 - val_acc: 0.8468\n",
      "Epoch 5/100\n",
      "60000/60000 [==============================] - 1s 9us/step - loss: 0.7962 - acc: 0.9266 - val_loss: 0.8881 - val_acc: 0.9147\n",
      "Epoch 6/100\n",
      "60000/60000 [==============================] - 1s 9us/step - loss: 0.7127 - acc: 0.9334 - val_loss: 1.6527 - val_acc: 0.8592\n",
      "Epoch 7/100\n",
      "60000/60000 [==============================] - 1s 12us/step - loss: 0.6713 - acc: 0.9374 - val_loss: 0.7657 - val_acc: 0.9253\n",
      "Epoch 8/100\n",
      "60000/60000 [==============================] - 1s 10us/step - loss: 0.6076 - acc: 0.9426 - val_loss: 0.7205 - val_acc: 0.9280\n",
      "Epoch 9/100\n",
      "60000/60000 [==============================] - 1s 12us/step - loss: 0.5683 - acc: 0.9442 - val_loss: 0.5726 - val_acc: 0.9418\n",
      "Epoch 10/100\n",
      "60000/60000 [==============================] - 1s 12us/step - loss: 0.5374 - acc: 0.9474 - val_loss: 0.6134 - val_acc: 0.9344\n",
      "Epoch 11/100\n",
      "60000/60000 [==============================] - 1s 11us/step - loss: 0.5075 - acc: 0.9502 - val_loss: 0.4503 - val_acc: 0.9554\n",
      "Epoch 12/100\n",
      "60000/60000 [==============================] - 1s 13us/step - loss: 0.4825 - acc: 0.9518 - val_loss: 0.5169 - val_acc: 0.9468\n",
      "Epoch 13/100\n",
      "60000/60000 [==============================] - 1s 12us/step - loss: 0.4680 - acc: 0.9531 - val_loss: 0.3900 - val_acc: 0.9579\n",
      "Epoch 14/100\n",
      "60000/60000 [==============================] - 1s 12us/step - loss: 0.4339 - acc: 0.9544 - val_loss: 0.4323 - val_acc: 0.9531\n",
      "Epoch 15/100\n",
      "60000/60000 [==============================] - 1s 11us/step - loss: 0.4226 - acc: 0.9558 - val_loss: 0.3814 - val_acc: 0.9593\n",
      "Epoch 16/100\n",
      "60000/60000 [==============================] - 1s 10us/step - loss: 0.4019 - acc: 0.9575 - val_loss: 0.4459 - val_acc: 0.9532\n",
      "Epoch 17/100\n",
      "60000/60000 [==============================] - 1s 11us/step - loss: 0.3847 - acc: 0.9591 - val_loss: 0.3311 - val_acc: 0.9640\n",
      "Epoch 18/100\n",
      "60000/60000 [==============================] - 1s 13us/step - loss: 0.3728 - acc: 0.9605 - val_loss: 0.3069 - val_acc: 0.9647\n",
      "Epoch 19/100\n",
      "60000/60000 [==============================] - 1s 13us/step - loss: 0.3514 - acc: 0.9620 - val_loss: 0.3823 - val_acc: 0.9583\n",
      "Epoch 20/100\n",
      "60000/60000 [==============================] - 1s 16us/step - loss: 0.3473 - acc: 0.9613 - val_loss: 0.4542 - val_acc: 0.9430\n",
      "Epoch 21/100\n",
      "60000/60000 [==============================] - 1s 13us/step - loss: 0.3387 - acc: 0.9620 - val_loss: 0.3007 - val_acc: 0.9663\n",
      "Epoch 22/100\n",
      "60000/60000 [==============================] - 1s 11us/step - loss: 0.3190 - acc: 0.9633 - val_loss: 0.3040 - val_acc: 0.9642\n",
      "Epoch 23/100\n",
      "60000/60000 [==============================] - 1s 12us/step - loss: 0.3020 - acc: 0.9647 - val_loss: 0.3797 - val_acc: 0.9573\n",
      "Epoch 24/100\n",
      "60000/60000 [==============================] - 1s 12us/step - loss: 0.2965 - acc: 0.9659 - val_loss: 0.3417 - val_acc: 0.9567\n",
      "Epoch 25/100\n",
      "60000/60000 [==============================] - 1s 11us/step - loss: 0.2958 - acc: 0.9648 - val_loss: 0.3131 - val_acc: 0.9640\n",
      "Epoch 26/100\n",
      "60000/60000 [==============================] - 1s 10us/step - loss: 0.2807 - acc: 0.9668 - val_loss: 0.3516 - val_acc: 0.9567\n",
      "Epoch 27/100\n",
      "60000/60000 [==============================] - 1s 12us/step - loss: 0.2722 - acc: 0.9676 - val_loss: 0.2429 - val_acc: 0.9680\n",
      "Epoch 28/100\n",
      "60000/60000 [==============================] - 1s 13us/step - loss: 0.2680 - acc: 0.9681 - val_loss: 0.2206 - val_acc: 0.9737\n",
      "Epoch 29/100\n",
      "60000/60000 [==============================] - 1s 12us/step - loss: 0.2623 - acc: 0.9684 - val_loss: 0.2736 - val_acc: 0.9645\n",
      "Epoch 30/100\n",
      "60000/60000 [==============================] - 1s 12us/step - loss: 0.2586 - acc: 0.9677 - val_loss: 0.3310 - val_acc: 0.9563\n",
      "Epoch 31/100\n",
      "60000/60000 [==============================] - 1s 11us/step - loss: 0.2499 - acc: 0.9688 - val_loss: 0.2441 - val_acc: 0.9683\n",
      "Epoch 32/100\n",
      "60000/60000 [==============================] - 1s 12us/step - loss: 0.2476 - acc: 0.9697 - val_loss: 0.2406 - val_acc: 0.9657\n",
      "Epoch 33/100\n",
      "60000/60000 [==============================] - 1s 11us/step - loss: 0.2389 - acc: 0.9695 - val_loss: 0.2001 - val_acc: 0.9753\n",
      "Epoch 34/100\n",
      "60000/60000 [==============================] - 1s 12us/step - loss: 0.2307 - acc: 0.9701 - val_loss: 0.3368 - val_acc: 0.9566\n",
      "Epoch 35/100\n",
      "60000/60000 [==============================] - 1s 12us/step - loss: 0.2303 - acc: 0.9704 - val_loss: 0.1970 - val_acc: 0.9723\n",
      "Epoch 36/100\n",
      "60000/60000 [==============================] - 1s 11us/step - loss: 0.2229 - acc: 0.9709 - val_loss: 0.2689 - val_acc: 0.9644\n",
      "Epoch 37/100\n",
      "60000/60000 [==============================] - 1s 12us/step - loss: 0.2211 - acc: 0.9718 - val_loss: 0.2283 - val_acc: 0.9677\n",
      "Epoch 38/100\n",
      "60000/60000 [==============================] - 1s 11us/step - loss: 0.2160 - acc: 0.9724 - val_loss: 0.1808 - val_acc: 0.9765\n",
      "Epoch 39/100\n",
      "60000/60000 [==============================] - 1s 11us/step - loss: 0.2057 - acc: 0.9724 - val_loss: 0.2019 - val_acc: 0.9723\n",
      "Epoch 40/100\n",
      "60000/60000 [==============================] - 1s 11us/step - loss: 0.2030 - acc: 0.9729 - val_loss: 0.2221 - val_acc: 0.9696\n",
      "Epoch 41/100\n",
      "60000/60000 [==============================] - 1s 11us/step - loss: 0.2019 - acc: 0.9732 - val_loss: 0.1711 - val_acc: 0.9778\n",
      "Epoch 42/100\n",
      "60000/60000 [==============================] - 1s 11us/step - loss: 0.1984 - acc: 0.9733 - val_loss: 0.1736 - val_acc: 0.9749\n",
      "Epoch 43/100\n",
      "60000/60000 [==============================] - 1s 11us/step - loss: 0.1927 - acc: 0.9735 - val_loss: 0.1794 - val_acc: 0.9744\n",
      "Epoch 44/100\n",
      "60000/60000 [==============================] - 1s 11us/step - loss: 0.1885 - acc: 0.9741 - val_loss: 0.1764 - val_acc: 0.9764\n",
      "Epoch 45/100\n",
      "60000/60000 [==============================] - 1s 11us/step - loss: 0.1900 - acc: 0.9744 - val_loss: 0.2562 - val_acc: 0.9602\n",
      "Epoch 46/100\n",
      "60000/60000 [==============================] - 1s 11us/step - loss: 0.1861 - acc: 0.9745 - val_loss: 0.1958 - val_acc: 0.9734\n",
      "Epoch 47/100\n",
      "60000/60000 [==============================] - 1s 11us/step - loss: 0.1851 - acc: 0.9748 - val_loss: 0.2337 - val_acc: 0.9673\n",
      "Epoch 48/100\n",
      "60000/60000 [==============================] - 1s 12us/step - loss: 0.1791 - acc: 0.9753 - val_loss: 0.1485 - val_acc: 0.9805\n",
      "Epoch 49/100\n",
      "60000/60000 [==============================] - 1s 12us/step - loss: 0.1758 - acc: 0.9757 - val_loss: 0.3085 - val_acc: 0.9559\n",
      "Epoch 50/100\n",
      "60000/60000 [==============================] - 1s 13us/step - loss: 0.1749 - acc: 0.9751 - val_loss: 0.2107 - val_acc: 0.9701\n",
      "Epoch 51/100\n",
      "60000/60000 [==============================] - 1s 14us/step - loss: 0.1704 - acc: 0.9761 - val_loss: 0.2354 - val_acc: 0.9673\n",
      "Epoch 52/100\n",
      "60000/60000 [==============================] - 1s 12us/step - loss: 0.1691 - acc: 0.9762 - val_loss: 0.1796 - val_acc: 0.9742\n",
      "Epoch 53/100\n",
      "60000/60000 [==============================] - 1s 11us/step - loss: 0.1629 - acc: 0.9768 - val_loss: 0.1610 - val_acc: 0.9768\n",
      "Epoch 54/100\n",
      "60000/60000 [==============================] - 1s 12us/step - loss: 0.1667 - acc: 0.9762 - val_loss: 0.1434 - val_acc: 0.9778\n",
      "Epoch 55/100\n",
      "60000/60000 [==============================] - 1s 11us/step - loss: 0.1651 - acc: 0.9766 - val_loss: 0.1466 - val_acc: 0.9800\n",
      "Epoch 56/100\n",
      "60000/60000 [==============================] - 1s 11us/step - loss: 0.1579 - acc: 0.9785 - val_loss: 0.2370 - val_acc: 0.9637\n",
      "Epoch 57/100\n",
      "60000/60000 [==============================] - 1s 12us/step - loss: 0.1575 - acc: 0.9775 - val_loss: 0.1692 - val_acc: 0.9739\n",
      "Epoch 58/100\n",
      "60000/60000 [==============================] - 1s 12us/step - loss: 0.1528 - acc: 0.9781 - val_loss: 0.2558 - val_acc: 0.9563\n",
      "Epoch 59/100\n"
     ]
    },
    {
     "name": "stdout",
     "output_type": "stream",
     "text": [
      "60000/60000 [==============================] - 1s 10us/step - loss: 0.1553 - acc: 0.9783 - val_loss: 0.3209 - val_acc: 0.9527\n",
      "Epoch 60/100\n",
      "60000/60000 [==============================] - 1s 10us/step - loss: 0.1537 - acc: 0.9781 - val_loss: 0.1693 - val_acc: 0.9766\n",
      "Epoch 61/100\n",
      "60000/60000 [==============================] - 1s 9us/step - loss: 0.1496 - acc: 0.9783 - val_loss: 0.2365 - val_acc: 0.9691\n",
      "Epoch 62/100\n",
      "60000/60000 [==============================] - 1s 10us/step - loss: 0.1491 - acc: 0.9785 - val_loss: 0.2715 - val_acc: 0.9637\n",
      "Epoch 63/100\n",
      "60000/60000 [==============================] - 1s 9us/step - loss: 0.1463 - acc: 0.9787 - val_loss: 0.1499 - val_acc: 0.9773\n",
      "Epoch 64/100\n",
      "60000/60000 [==============================] - 1s 10us/step - loss: 0.1441 - acc: 0.9789 - val_loss: 0.2015 - val_acc: 0.9728\n",
      "Epoch 65/100\n",
      "60000/60000 [==============================] - 1s 10us/step - loss: 0.1460 - acc: 0.9796 - val_loss: 0.1565 - val_acc: 0.9780\n",
      "Epoch 66/100\n",
      "60000/60000 [==============================] - 1s 10us/step - loss: 0.1435 - acc: 0.9800 - val_loss: 0.2503 - val_acc: 0.9609\n",
      "Epoch 67/100\n",
      "60000/60000 [==============================] - 1s 10us/step - loss: 0.1348 - acc: 0.9802 - val_loss: 0.1337 - val_acc: 0.9803\n",
      "Epoch 68/100\n",
      "60000/60000 [==============================] - 1s 10us/step - loss: 0.1392 - acc: 0.9800 - val_loss: 0.1371 - val_acc: 0.9787\n",
      "Epoch 69/100\n",
      "60000/60000 [==============================] - 1s 10us/step - loss: 0.1351 - acc: 0.9802 - val_loss: 0.1734 - val_acc: 0.9728\n",
      "Epoch 70/100\n",
      "60000/60000 [==============================] - 1s 12us/step - loss: 0.1396 - acc: 0.9791 - val_loss: 0.1830 - val_acc: 0.9739\n",
      "Epoch 71/100\n",
      "60000/60000 [==============================] - 1s 10us/step - loss: 0.1330 - acc: 0.9801 - val_loss: 0.2582 - val_acc: 0.9583\n",
      "Epoch 72/100\n",
      "60000/60000 [==============================] - 1s 10us/step - loss: 0.1330 - acc: 0.9806 - val_loss: 0.3016 - val_acc: 0.9524\n",
      "Epoch 73/100\n",
      "60000/60000 [==============================] - 1s 10us/step - loss: 0.1327 - acc: 0.9804 - val_loss: 0.1097 - val_acc: 0.9857\n",
      "Epoch 74/100\n",
      "60000/60000 [==============================] - 1s 10us/step - loss: 0.1302 - acc: 0.9809 - val_loss: 0.1683 - val_acc: 0.9747\n",
      "Epoch 75/100\n",
      "60000/60000 [==============================] - 1s 10us/step - loss: 0.1306 - acc: 0.9809 - val_loss: 0.1173 - val_acc: 0.9833\n",
      "Epoch 76/100\n",
      "60000/60000 [==============================] - 1s 10us/step - loss: 0.1319 - acc: 0.9806 - val_loss: 0.0996 - val_acc: 0.9872\n",
      "Epoch 77/100\n",
      "60000/60000 [==============================] - 1s 10us/step - loss: 0.1270 - acc: 0.9814 - val_loss: 0.1182 - val_acc: 0.9817\n",
      "Epoch 78/100\n",
      "60000/60000 [==============================] - 1s 10us/step - loss: 0.1254 - acc: 0.9815 - val_loss: 0.1052 - val_acc: 0.9848\n",
      "Epoch 79/100\n",
      "60000/60000 [==============================] - 1s 10us/step - loss: 0.1299 - acc: 0.9808 - val_loss: 0.0962 - val_acc: 0.9875\n",
      "Epoch 80/100\n",
      "60000/60000 [==============================] - 1s 10us/step - loss: 0.1208 - acc: 0.9823 - val_loss: 0.1949 - val_acc: 0.9739\n",
      "Epoch 81/100\n",
      "60000/60000 [==============================] - 1s 10us/step - loss: 0.1227 - acc: 0.9820 - val_loss: 0.1593 - val_acc: 0.9758\n",
      "Epoch 82/100\n",
      "60000/60000 [==============================] - 1s 10us/step - loss: 0.1254 - acc: 0.9810 - val_loss: 0.1411 - val_acc: 0.9768\n",
      "Epoch 83/100\n",
      "60000/60000 [==============================] - 1s 11us/step - loss: 0.1182 - acc: 0.9824 - val_loss: 0.2511 - val_acc: 0.9617\n",
      "Epoch 84/100\n",
      "60000/60000 [==============================] - 1s 10us/step - loss: 0.1180 - acc: 0.9829 - val_loss: 0.1147 - val_acc: 0.9829\n",
      "Epoch 85/100\n",
      "60000/60000 [==============================] - 1s 10us/step - loss: 0.1211 - acc: 0.9821 - val_loss: 0.1591 - val_acc: 0.9737\n",
      "Epoch 86/100\n",
      "60000/60000 [==============================] - 1s 10us/step - loss: 0.1191 - acc: 0.9826 - val_loss: 0.2325 - val_acc: 0.9619\n",
      "Epoch 87/100\n",
      "60000/60000 [==============================] - 1s 10us/step - loss: 0.1154 - acc: 0.9828 - val_loss: 0.2163 - val_acc: 0.9661\n",
      "Epoch 88/100\n",
      "60000/60000 [==============================] - 1s 10us/step - loss: 0.1198 - acc: 0.9823 - val_loss: 0.1899 - val_acc: 0.9721\n",
      "Epoch 89/100\n",
      "60000/60000 [==============================] - 1s 10us/step - loss: 0.1158 - acc: 0.9827 - val_loss: 0.0875 - val_acc: 0.9894\n",
      "Epoch 90/100\n",
      "60000/60000 [==============================] - 1s 9us/step - loss: 0.1134 - acc: 0.9827 - val_loss: 0.1277 - val_acc: 0.9785\n",
      "Epoch 91/100\n",
      "60000/60000 [==============================] - 1s 9us/step - loss: 0.1108 - acc: 0.9831 - val_loss: 0.1479 - val_acc: 0.9773\n",
      "Epoch 92/100\n",
      "60000/60000 [==============================] - 1s 10us/step - loss: 0.1126 - acc: 0.9835 - val_loss: 0.0956 - val_acc: 0.9851\n",
      "Epoch 93/100\n",
      "60000/60000 [==============================] - 1s 10us/step - loss: 0.1144 - acc: 0.9827 - val_loss: 0.1506 - val_acc: 0.9772\n",
      "Epoch 94/100\n",
      "60000/60000 [==============================] - 1s 10us/step - loss: 0.1129 - acc: 0.9829 - val_loss: 0.1778 - val_acc: 0.9747\n",
      "Epoch 95/100\n",
      "60000/60000 [==============================] - 1s 10us/step - loss: 0.1087 - acc: 0.9835 - val_loss: 0.1706 - val_acc: 0.9738\n",
      "Epoch 96/100\n",
      "60000/60000 [==============================] - 1s 10us/step - loss: 0.1069 - acc: 0.9840 - val_loss: 0.1158 - val_acc: 0.9833\n",
      "Epoch 97/100\n",
      "60000/60000 [==============================] - 1s 10us/step - loss: 0.1078 - acc: 0.9837 - val_loss: 0.1528 - val_acc: 0.9786\n",
      "Epoch 98/100\n",
      "60000/60000 [==============================] - 1s 9us/step - loss: 0.1108 - acc: 0.9830 - val_loss: 0.1178 - val_acc: 0.9818\n",
      "Epoch 99/100\n",
      "60000/60000 [==============================] - 1s 10us/step - loss: 0.1065 - acc: 0.9840 - val_loss: 0.1414 - val_acc: 0.9767\n",
      "Epoch 100/100\n",
      "60000/60000 [==============================] - 1s 11us/step - loss: 0.1017 - acc: 0.9844 - val_loss: 0.0858 - val_acc: 0.9883\n"
     ]
    }
   ],
   "source": [
    "history_5 = model_5.fit(x_train_data, \n",
    "                        y_train_labels, \n",
    "                        epochs = epoch, \n",
    "                        batch_size = 512, \n",
    "                        validation_data = (x_train_val, y_train_val))"
   ]
  },
  {
   "cell_type": "code",
   "execution_count": 188,
   "metadata": {},
   "outputs": [],
   "source": [
    "history_dict_5 = history_5.history\n",
    "loss_5 = history_dict_5['loss']\n",
    "val_loss_5 = history_dict_5['val_loss']\n",
    "acc_5 = history_dict_5['acc']\n",
    "val_acc_5 = history_dict_5['val_acc']\n",
    "\n",
    "epochs_5 = range(1, len(acc_2_1)+1)"
   ]
  },
  {
   "cell_type": "code",
   "execution_count": 189,
   "metadata": {},
   "outputs": [
    {
     "data": {
      "image/png": "[encoded data removed]",
      "text/plain": [
       "<Figure size 432x288 with 1 Axes>"
      ]
     },
     "metadata": {
      "needs_background": "light"
     },
     "output_type": "display_data"
    }
   ],
   "source": [
    "plt.plot(epochs_5, acc_5, 'r', label='Training loss')\n",
    "plt.plot(epochs_5, val_acc_5, 'b', label='Validation loss')\n",
    "plt.title('Training and validation accuracy')\n",
    "plt.xlabel('Epochs')\n",
    "plt.ylabel('Accurancy')\n",
    "plt.legend()\n",
    "plt.show()"
   ]
  },
  {
   "cell_type": "code",
   "execution_count": 190,
   "metadata": {
    "scrolled": true
   },
   "outputs": [],
   "source": [
    "y_pred_5 = model_5.predict(x_test_data.reshape(10000, 28*28))\n",
    "y_pred_test_5 = np.argmax(y_pred_5, axis=1)"
   ]
  },
  {
   "cell_type": "code",
   "execution_count": 191,
   "metadata": {
    "scrolled": false
   },
   "outputs": [
    {
     "name": "stdout",
     "output_type": "stream",
     "text": [
      "[[ 958    0    1    1    1    2    7    1    6    3]\n",
      " [   0 1116    4    2    1    1    2    0    9    0]\n",
      " [   2    1  991   10    7    2    8    1    8    2]\n",
      " [   0    1   13  962    0   11    0    5   12    6]\n",
      " [   2    1    7    0  934    0    3    3    5   27]\n",
      " [   3    0    1   20    0  845    5    0    7   11]\n",
      " [   7    3    5    1    4   15  917    0    6    0]\n",
      " [   0    5   16   13    3    5    1  965    7   13]\n",
      " [   2    0    4   10    3   10    8    4  928    5]\n",
      " [   3    3    0    8    9    5    0    7    6  968]]\n",
      "              precision    recall  f1-score   support\n",
      "\n",
      "           0       0.98      0.98      0.98       980\n",
      "           1       0.99      0.98      0.99      1135\n",
      "           2       0.95      0.96      0.96      1032\n",
      "           3       0.94      0.95      0.94      1010\n",
      "           4       0.97      0.95      0.96       982\n",
      "           5       0.94      0.95      0.95       892\n",
      "           6       0.96      0.96      0.96       958\n",
      "           7       0.98      0.94      0.96      1028\n",
      "           8       0.93      0.95      0.94       974\n",
      "           9       0.94      0.96      0.95      1009\n",
      "\n",
      "    accuracy                           0.96     10000\n",
      "   macro avg       0.96      0.96      0.96     10000\n",
      "weighted avg       0.96      0.96      0.96     10000\n",
      "\n"
     ]
    }
   ],
   "source": [
    "print(confusion_matrix(y_test_labels, y_pred_test_5))\n",
    "print(classification_report(y_test_labels, y_pred_test_5))"
   ]
  }
 ],
 "metadata": {
  "kernelspec": {
   "display_name": "Python 3",
   "language": "python",
   "name": "python3"
  },
  "language_info": {
   "codemirror_mode": {
    "name": "ipython",
    "version": 3
   },
   "file_extension": ".py",
   "mimetype": "text/x-python",
   "name": "python",
   "nbconvert_exporter": "python",
   "pygments_lexer": "ipython3",
   "version": "3.6.7"
  }
 },
 "nbformat": 4,
 "nbformat_minor": 2
}
